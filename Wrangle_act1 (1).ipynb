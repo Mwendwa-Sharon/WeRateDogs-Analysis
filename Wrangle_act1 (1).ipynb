{
 "cells": [
  {
   "cell_type": "markdown",
   "id": "1110ba86",
   "metadata": {},
   "source": [
    "# Project: Wrangling and Analyze Data"
   ]
  },
  {
   "cell_type": "markdown",
   "id": "8ffbef7d",
   "metadata": {},
   "source": [
    "## Data Gathering\n",
    "### In the cell below, gather all three pieces of data for this project and load them in the notebook. Note: the methods required to gather each data are different.\n",
    "\n",
    "### 1.Directly download the WeRateDogs Twitter archive data (twitter_archive_enhanced.csv)"
   ]
  },
  {
   "cell_type": "markdown",
   "id": "4889f9a5",
   "metadata": {},
   "source": [
    "#### Importing the libraries"
   ]
  },
  {
   "cell_type": "code",
   "execution_count": 147,
   "id": "23be2175",
   "metadata": {},
   "outputs": [],
   "source": [
    "import pandas as pd\n",
    "import numpy as np\n",
    "import matplotlib.pyplot as plt\n",
    "import seaborn as sns"
   ]
  },
  {
   "cell_type": "code",
   "execution_count": 148,
   "id": "e7b46a07",
   "metadata": {},
   "outputs": [],
   "source": [
    "#Reading the twitter_archive_enhanced.csv\n",
    "\n",
    "archiveEnhanced_df = pd.read_csv('twitter-archive-enhanced.csv')"
   ]
  },
  {
   "cell_type": "markdown",
   "id": "6c98ce1a",
   "metadata": {},
   "source": [
    "### 2. Use the Requests library to download the tweet image prediction (image_predictions.tsv)"
   ]
  },
  {
   "cell_type": "markdown",
   "id": "dba64f3f",
   "metadata": {},
   "source": [
    "#### ---We first import the requests library"
   ]
  },
  {
   "cell_type": "code",
   "execution_count": 149,
   "id": "d8b606f4",
   "metadata": {},
   "outputs": [],
   "source": [
    "import requests as req"
   ]
  },
  {
   "cell_type": "code",
   "execution_count": 150,
   "id": "8b9be0b0",
   "metadata": {},
   "outputs": [],
   "source": [
    "with req.get(\"https://d17h27t6h515a5.cloudfront.net/topher/2017/August/599fd2ad_image-predictions/image-predictions.tsv\")as rq:\n",
    "    with open(\"image-predictions-tsv\", \"wb\") as file:\n",
    "        file.write(rq.content)"
   ]
  },
  {
   "cell_type": "code",
   "execution_count": 151,
   "id": "626c15a8",
   "metadata": {},
   "outputs": [],
   "source": [
    "# Reading the image-predictions-tsv created.\n",
    "\n",
    "imagePredictions_df = pd.read_csv(\"image-predictions-tsv\", sep = \"\\t\")"
   ]
  },
  {
   "cell_type": "code",
   "execution_count": 152,
   "id": "de637420",
   "metadata": {
    "scrolled": true
   },
   "outputs": [
    {
     "data": {
      "text/html": [
       "<div>\n",
       "<style scoped>\n",
       "    .dataframe tbody tr th:only-of-type {\n",
       "        vertical-align: middle;\n",
       "    }\n",
       "\n",
       "    .dataframe tbody tr th {\n",
       "        vertical-align: top;\n",
       "    }\n",
       "\n",
       "    .dataframe thead th {\n",
       "        text-align: right;\n",
       "    }\n",
       "</style>\n",
       "<table border=\"1\" class=\"dataframe\">\n",
       "  <thead>\n",
       "    <tr style=\"text-align: right;\">\n",
       "      <th></th>\n",
       "      <th>tweet_id</th>\n",
       "      <th>jpg_url</th>\n",
       "      <th>img_num</th>\n",
       "      <th>p1</th>\n",
       "      <th>p1_conf</th>\n",
       "      <th>p1_dog</th>\n",
       "      <th>p2</th>\n",
       "      <th>p2_conf</th>\n",
       "      <th>p2_dog</th>\n",
       "      <th>p3</th>\n",
       "      <th>p3_conf</th>\n",
       "      <th>p3_dog</th>\n",
       "    </tr>\n",
       "  </thead>\n",
       "  <tbody>\n",
       "    <tr>\n",
       "      <th>0</th>\n",
       "      <td>666020888022790149</td>\n",
       "      <td>https://pbs.twimg.com/media/CT4udn0WwAA0aMy.jpg</td>\n",
       "      <td>1</td>\n",
       "      <td>Welsh_springer_spaniel</td>\n",
       "      <td>0.465074</td>\n",
       "      <td>True</td>\n",
       "      <td>collie</td>\n",
       "      <td>0.156665</td>\n",
       "      <td>True</td>\n",
       "      <td>Shetland_sheepdog</td>\n",
       "      <td>0.061428</td>\n",
       "      <td>True</td>\n",
       "    </tr>\n",
       "    <tr>\n",
       "      <th>1</th>\n",
       "      <td>666029285002620928</td>\n",
       "      <td>https://pbs.twimg.com/media/CT42GRgUYAA5iDo.jpg</td>\n",
       "      <td>1</td>\n",
       "      <td>redbone</td>\n",
       "      <td>0.506826</td>\n",
       "      <td>True</td>\n",
       "      <td>miniature_pinscher</td>\n",
       "      <td>0.074192</td>\n",
       "      <td>True</td>\n",
       "      <td>Rhodesian_ridgeback</td>\n",
       "      <td>0.072010</td>\n",
       "      <td>True</td>\n",
       "    </tr>\n",
       "    <tr>\n",
       "      <th>2</th>\n",
       "      <td>666033412701032449</td>\n",
       "      <td>https://pbs.twimg.com/media/CT4521TWwAEvMyu.jpg</td>\n",
       "      <td>1</td>\n",
       "      <td>German_shepherd</td>\n",
       "      <td>0.596461</td>\n",
       "      <td>True</td>\n",
       "      <td>malinois</td>\n",
       "      <td>0.138584</td>\n",
       "      <td>True</td>\n",
       "      <td>bloodhound</td>\n",
       "      <td>0.116197</td>\n",
       "      <td>True</td>\n",
       "    </tr>\n",
       "    <tr>\n",
       "      <th>3</th>\n",
       "      <td>666044226329800704</td>\n",
       "      <td>https://pbs.twimg.com/media/CT5Dr8HUEAA-lEu.jpg</td>\n",
       "      <td>1</td>\n",
       "      <td>Rhodesian_ridgeback</td>\n",
       "      <td>0.408143</td>\n",
       "      <td>True</td>\n",
       "      <td>redbone</td>\n",
       "      <td>0.360687</td>\n",
       "      <td>True</td>\n",
       "      <td>miniature_pinscher</td>\n",
       "      <td>0.222752</td>\n",
       "      <td>True</td>\n",
       "    </tr>\n",
       "    <tr>\n",
       "      <th>4</th>\n",
       "      <td>666049248165822465</td>\n",
       "      <td>https://pbs.twimg.com/media/CT5IQmsXIAAKY4A.jpg</td>\n",
       "      <td>1</td>\n",
       "      <td>miniature_pinscher</td>\n",
       "      <td>0.560311</td>\n",
       "      <td>True</td>\n",
       "      <td>Rottweiler</td>\n",
       "      <td>0.243682</td>\n",
       "      <td>True</td>\n",
       "      <td>Doberman</td>\n",
       "      <td>0.154629</td>\n",
       "      <td>True</td>\n",
       "    </tr>\n",
       "  </tbody>\n",
       "</table>\n",
       "</div>"
      ],
      "text/plain": [
       "             tweet_id                                          jpg_url  \\\n",
       "0  666020888022790149  https://pbs.twimg.com/media/CT4udn0WwAA0aMy.jpg   \n",
       "1  666029285002620928  https://pbs.twimg.com/media/CT42GRgUYAA5iDo.jpg   \n",
       "2  666033412701032449  https://pbs.twimg.com/media/CT4521TWwAEvMyu.jpg   \n",
       "3  666044226329800704  https://pbs.twimg.com/media/CT5Dr8HUEAA-lEu.jpg   \n",
       "4  666049248165822465  https://pbs.twimg.com/media/CT5IQmsXIAAKY4A.jpg   \n",
       "\n",
       "   img_num                      p1   p1_conf  p1_dog                  p2  \\\n",
       "0  1        Welsh_springer_spaniel  0.465074  True    collie               \n",
       "1  1        redbone                 0.506826  True    miniature_pinscher   \n",
       "2  1        German_shepherd         0.596461  True    malinois             \n",
       "3  1        Rhodesian_ridgeback     0.408143  True    redbone              \n",
       "4  1        miniature_pinscher      0.560311  True    Rottweiler           \n",
       "\n",
       "    p2_conf  p2_dog                   p3   p3_conf  p3_dog  \n",
       "0  0.156665  True    Shetland_sheepdog    0.061428  True    \n",
       "1  0.074192  True    Rhodesian_ridgeback  0.072010  True    \n",
       "2  0.138584  True    bloodhound           0.116197  True    \n",
       "3  0.360687  True    miniature_pinscher   0.222752  True    \n",
       "4  0.243682  True    Doberman             0.154629  True    "
      ]
     },
     "execution_count": 152,
     "metadata": {},
     "output_type": "execute_result"
    }
   ],
   "source": [
    "# outputting the first 5 rows \n",
    "\n",
    "imagePredictions_df.head()"
   ]
  },
  {
   "cell_type": "markdown",
   "id": "0f6712b3",
   "metadata": {},
   "source": [
    "## Using the jason-txt provided since using tweepy to get additional data failed."
   ]
  },
  {
   "cell_type": "code",
   "execution_count": 153,
   "id": "a5cd15c4",
   "metadata": {},
   "outputs": [],
   "source": [
    "import json"
   ]
  },
  {
   "cell_type": "code",
   "execution_count": 154,
   "id": "f4e12737",
   "metadata": {},
   "outputs": [],
   "source": [
    "# Opening the file\n",
    "\n",
    "my_list = []\n",
    "with open('tweet_json.txt') as file:\n",
    "    for line in file:\n",
    "        my_list.append(json.loads(line))"
   ]
  },
  {
   "cell_type": "code",
   "execution_count": 155,
   "id": "a0bab924",
   "metadata": {
    "scrolled": true
   },
   "outputs": [
    {
     "data": {
      "text/plain": [
       "{'created_at': 'Tue Aug 01 16:23:56 +0000 2017',\n",
       " 'id': 892420643555336193,\n",
       " 'id_str': '892420643555336193',\n",
       " 'full_text': \"This is Phineas. He's a mystical boy. Only ever appears in the hole of a donut. 13/10 https://t.co/MgUWQ76dJU\",\n",
       " 'truncated': False,\n",
       " 'display_text_range': [0, 85],\n",
       " 'entities': {'hashtags': [],\n",
       "  'symbols': [],\n",
       "  'user_mentions': [],\n",
       "  'urls': [],\n",
       "  'media': [{'id': 892420639486877696,\n",
       "    'id_str': '892420639486877696',\n",
       "    'indices': [86, 109],\n",
       "    'media_url': 'http://pbs.twimg.com/media/DGKD1-bXoAAIAUK.jpg',\n",
       "    'media_url_https': 'https://pbs.twimg.com/media/DGKD1-bXoAAIAUK.jpg',\n",
       "    'url': 'https://t.co/MgUWQ76dJU',\n",
       "    'display_url': 'pic.twitter.com/MgUWQ76dJU',\n",
       "    'expanded_url': 'https://twitter.com/dog_rates/status/892420643555336193/photo/1',\n",
       "    'type': 'photo',\n",
       "    'sizes': {'thumb': {'w': 150, 'h': 150, 'resize': 'crop'},\n",
       "     'medium': {'w': 540, 'h': 528, 'resize': 'fit'},\n",
       "     'small': {'w': 540, 'h': 528, 'resize': 'fit'},\n",
       "     'large': {'w': 540, 'h': 528, 'resize': 'fit'}}}]},\n",
       " 'extended_entities': {'media': [{'id': 892420639486877696,\n",
       "    'id_str': '892420639486877696',\n",
       "    'indices': [86, 109],\n",
       "    'media_url': 'http://pbs.twimg.com/media/DGKD1-bXoAAIAUK.jpg',\n",
       "    'media_url_https': 'https://pbs.twimg.com/media/DGKD1-bXoAAIAUK.jpg',\n",
       "    'url': 'https://t.co/MgUWQ76dJU',\n",
       "    'display_url': 'pic.twitter.com/MgUWQ76dJU',\n",
       "    'expanded_url': 'https://twitter.com/dog_rates/status/892420643555336193/photo/1',\n",
       "    'type': 'photo',\n",
       "    'sizes': {'thumb': {'w': 150, 'h': 150, 'resize': 'crop'},\n",
       "     'medium': {'w': 540, 'h': 528, 'resize': 'fit'},\n",
       "     'small': {'w': 540, 'h': 528, 'resize': 'fit'},\n",
       "     'large': {'w': 540, 'h': 528, 'resize': 'fit'}}}]},\n",
       " 'source': '<a href=\"http://twitter.com/download/iphone\" rel=\"nofollow\">Twitter for iPhone</a>',\n",
       " 'in_reply_to_status_id': None,\n",
       " 'in_reply_to_status_id_str': None,\n",
       " 'in_reply_to_user_id': None,\n",
       " 'in_reply_to_user_id_str': None,\n",
       " 'in_reply_to_screen_name': None,\n",
       " 'user': {'id': 4196983835,\n",
       "  'id_str': '4196983835',\n",
       "  'name': 'WeRateDogs®',\n",
       "  'screen_name': 'dog_rates',\n",
       "  'location': 'all our links ➜',\n",
       "  'description': 'Your Only Source For Professional Dog Ratings Instagram and Facebook ➜ WeRateDogs partnerships@weratedogs.com | nonprofit: @15outof10 ⠀⠀⠀⠀⠀⠀⠀⠀⠀⠀⠀⠀',\n",
       "  'url': 'https://t.co/YPc2XqmwyC',\n",
       "  'entities': {'url': {'urls': [{'url': 'https://t.co/YPc2XqmwyC',\n",
       "      'expanded_url': 'http://links.weratedogs.com',\n",
       "      'display_url': 'links.weratedogs.com',\n",
       "      'indices': [0, 23]}]},\n",
       "   'description': {'urls': []}},\n",
       "  'protected': False,\n",
       "  'followers_count': 9269911,\n",
       "  'friends_count': 21,\n",
       "  'listed_count': 7416,\n",
       "  'created_at': 'Sun Nov 15 21:41:29 +0000 2015',\n",
       "  'favourites_count': 146760,\n",
       "  'utc_offset': None,\n",
       "  'time_zone': None,\n",
       "  'geo_enabled': True,\n",
       "  'verified': True,\n",
       "  'statuses_count': 15629,\n",
       "  'lang': None,\n",
       "  'contributors_enabled': False,\n",
       "  'is_translator': False,\n",
       "  'is_translation_enabled': False,\n",
       "  'profile_background_color': '000000',\n",
       "  'profile_background_image_url': 'http://abs.twimg.com/images/themes/theme1/bg.png',\n",
       "  'profile_background_image_url_https': 'https://abs.twimg.com/images/themes/theme1/bg.png',\n",
       "  'profile_background_tile': False,\n",
       "  'profile_image_url': 'http://pbs.twimg.com/profile_images/1532010275708223491/-SBRbLoH_normal.jpg',\n",
       "  'profile_image_url_https': 'https://pbs.twimg.com/profile_images/1532010275708223491/-SBRbLoH_normal.jpg',\n",
       "  'profile_banner_url': 'https://pbs.twimg.com/profile_banners/4196983835/1617810473',\n",
       "  'profile_link_color': 'F5ABB5',\n",
       "  'profile_sidebar_border_color': '000000',\n",
       "  'profile_sidebar_fill_color': '000000',\n",
       "  'profile_text_color': '000000',\n",
       "  'profile_use_background_image': False,\n",
       "  'has_extended_profile': False,\n",
       "  'default_profile': False,\n",
       "  'default_profile_image': False,\n",
       "  'following': False,\n",
       "  'follow_request_sent': False,\n",
       "  'notifications': False,\n",
       "  'translator_type': 'none',\n",
       "  'withheld_in_countries': []},\n",
       " 'geo': None,\n",
       " 'coordinates': None,\n",
       " 'place': None,\n",
       " 'contributors': None,\n",
       " 'is_quote_status': False,\n",
       " 'retweet_count': 7019,\n",
       " 'favorite_count': 33843,\n",
       " 'favorited': False,\n",
       " 'retweeted': False,\n",
       " 'possibly_sensitive': False,\n",
       " 'possibly_sensitive_appealable': False,\n",
       " 'lang': 'en'}"
      ]
     },
     "execution_count": 155,
     "metadata": {},
     "output_type": "execute_result"
    }
   ],
   "source": [
    "my_list[0]"
   ]
  },
  {
   "cell_type": "code",
   "execution_count": 156,
   "id": "6038db7b",
   "metadata": {},
   "outputs": [],
   "source": [
    "additionalTweets_df = pd.DataFrame(my_list, columns=['id', 'retweet_count', 'favorite_count'])"
   ]
  },
  {
   "cell_type": "markdown",
   "id": "e6b58df9",
   "metadata": {},
   "source": [
    "### additionalTweets_df provides the missing values : retweeet_count and favorite_count"
   ]
  },
  {
   "cell_type": "markdown",
   "id": "c0820384",
   "metadata": {},
   "source": [
    "## Assessing Data\n",
    "\n",
    "#### In this section, detect and document at least eight (8) quality issues and two (2) tidiness issue. You must use both visual assessment programmatic assessement to assess the data.\n",
    "\n",
    "#### Note: pay attention to the following key points when you access the data.\n",
    "#### 1.You only want original ratings (no retweets) that have images. Though there are 5000+ tweets in the dataset, not all are dog ratings and some are retweets\n",
    "#### 2.Assessing and cleaning the entire dataset completely would require a lot of time, and is not necessary to practice and demonstrate your skills in data wrangling. Therefore, the requirements of this project are only to assess and clean at least 8 quality issues and at least 2 tidiness issues in this dataset.\n",
    "#### 3. The fact that the rating numerators are greater than the denominators does not need to be cleaned. This unique rating system is a big part of the popularity of WeRateDogs.\n",
    "#### 4. You do not need to gather the tweets beyond August 1st, 2017. You can, but note that you won't be able to gather the image predictions for these tweets since you don't have access to the algorithm used."
   ]
  },
  {
   "cell_type": "markdown",
   "id": "09bd47f3",
   "metadata": {},
   "source": [
    "## 1. Assessing archiveEnhanced_df"
   ]
  },
  {
   "cell_type": "markdown",
   "id": "d25b3e3a",
   "metadata": {},
   "source": [
    "### Visual Assment\n",
    "- I opened the datasets in Microsoft Excel and detected a few quality issues like missing values."
   ]
  },
  {
   "cell_type": "markdown",
   "id": "8aded746",
   "metadata": {},
   "source": [
    "### Programmatic Assment"
   ]
  },
  {
   "cell_type": "code",
   "execution_count": 157,
   "id": "b4aca58d",
   "metadata": {},
   "outputs": [
    {
     "data": {
      "text/html": [
       "<div>\n",
       "<style scoped>\n",
       "    .dataframe tbody tr th:only-of-type {\n",
       "        vertical-align: middle;\n",
       "    }\n",
       "\n",
       "    .dataframe tbody tr th {\n",
       "        vertical-align: top;\n",
       "    }\n",
       "\n",
       "    .dataframe thead th {\n",
       "        text-align: right;\n",
       "    }\n",
       "</style>\n",
       "<table border=\"1\" class=\"dataframe\">\n",
       "  <thead>\n",
       "    <tr style=\"text-align: right;\">\n",
       "      <th></th>\n",
       "      <th>tweet_id</th>\n",
       "      <th>in_reply_to_status_id</th>\n",
       "      <th>in_reply_to_user_id</th>\n",
       "      <th>timestamp</th>\n",
       "      <th>source</th>\n",
       "      <th>text</th>\n",
       "      <th>retweeted_status_id</th>\n",
       "      <th>retweeted_status_user_id</th>\n",
       "      <th>retweeted_status_timestamp</th>\n",
       "      <th>expanded_urls</th>\n",
       "      <th>rating_numerator</th>\n",
       "      <th>rating_denominator</th>\n",
       "      <th>name</th>\n",
       "      <th>doggo</th>\n",
       "      <th>floofer</th>\n",
       "      <th>pupper</th>\n",
       "      <th>puppo</th>\n",
       "    </tr>\n",
       "  </thead>\n",
       "  <tbody>\n",
       "    <tr>\n",
       "      <th>0</th>\n",
       "      <td>892420643555336193</td>\n",
       "      <td>NaN</td>\n",
       "      <td>NaN</td>\n",
       "      <td>2017-08-01 16:23:56 +0000</td>\n",
       "      <td>&lt;a href=\"http://twitter.com/download/iphone\" rel=\"nofollow\"&gt;Twitter for iPhone&lt;/a&gt;</td>\n",
       "      <td>This is Phineas. He's a mystical boy. Only ever appears in the hole of a donut. 13/10 https://t.co/MgUWQ76dJU</td>\n",
       "      <td>NaN</td>\n",
       "      <td>NaN</td>\n",
       "      <td>NaN</td>\n",
       "      <td>https://twitter.com/dog_rates/status/892420643555336193/photo/1</td>\n",
       "      <td>13</td>\n",
       "      <td>10</td>\n",
       "      <td>Phineas</td>\n",
       "      <td>None</td>\n",
       "      <td>None</td>\n",
       "      <td>None</td>\n",
       "      <td>None</td>\n",
       "    </tr>\n",
       "    <tr>\n",
       "      <th>1</th>\n",
       "      <td>892177421306343426</td>\n",
       "      <td>NaN</td>\n",
       "      <td>NaN</td>\n",
       "      <td>2017-08-01 00:17:27 +0000</td>\n",
       "      <td>&lt;a href=\"http://twitter.com/download/iphone\" rel=\"nofollow\"&gt;Twitter for iPhone&lt;/a&gt;</td>\n",
       "      <td>This is Tilly. She's just checking pup on you. Hopes you're doing ok. If not, she's available for pats, snugs, boops, the whole bit. 13/10 https://t.co/0Xxu71qeIV</td>\n",
       "      <td>NaN</td>\n",
       "      <td>NaN</td>\n",
       "      <td>NaN</td>\n",
       "      <td>https://twitter.com/dog_rates/status/892177421306343426/photo/1</td>\n",
       "      <td>13</td>\n",
       "      <td>10</td>\n",
       "      <td>Tilly</td>\n",
       "      <td>None</td>\n",
       "      <td>None</td>\n",
       "      <td>None</td>\n",
       "      <td>None</td>\n",
       "    </tr>\n",
       "    <tr>\n",
       "      <th>2</th>\n",
       "      <td>891815181378084864</td>\n",
       "      <td>NaN</td>\n",
       "      <td>NaN</td>\n",
       "      <td>2017-07-31 00:18:03 +0000</td>\n",
       "      <td>&lt;a href=\"http://twitter.com/download/iphone\" rel=\"nofollow\"&gt;Twitter for iPhone&lt;/a&gt;</td>\n",
       "      <td>This is Archie. He is a rare Norwegian Pouncing Corgo. Lives in the tall grass. You never know when one may strike. 12/10 https://t.co/wUnZnhtVJB</td>\n",
       "      <td>NaN</td>\n",
       "      <td>NaN</td>\n",
       "      <td>NaN</td>\n",
       "      <td>https://twitter.com/dog_rates/status/891815181378084864/photo/1</td>\n",
       "      <td>12</td>\n",
       "      <td>10</td>\n",
       "      <td>Archie</td>\n",
       "      <td>None</td>\n",
       "      <td>None</td>\n",
       "      <td>None</td>\n",
       "      <td>None</td>\n",
       "    </tr>\n",
       "    <tr>\n",
       "      <th>3</th>\n",
       "      <td>891689557279858688</td>\n",
       "      <td>NaN</td>\n",
       "      <td>NaN</td>\n",
       "      <td>2017-07-30 15:58:51 +0000</td>\n",
       "      <td>&lt;a href=\"http://twitter.com/download/iphone\" rel=\"nofollow\"&gt;Twitter for iPhone&lt;/a&gt;</td>\n",
       "      <td>This is Darla. She commenced a snooze mid meal. 13/10 happens to the best of us https://t.co/tD36da7qLQ</td>\n",
       "      <td>NaN</td>\n",
       "      <td>NaN</td>\n",
       "      <td>NaN</td>\n",
       "      <td>https://twitter.com/dog_rates/status/891689557279858688/photo/1</td>\n",
       "      <td>13</td>\n",
       "      <td>10</td>\n",
       "      <td>Darla</td>\n",
       "      <td>None</td>\n",
       "      <td>None</td>\n",
       "      <td>None</td>\n",
       "      <td>None</td>\n",
       "    </tr>\n",
       "    <tr>\n",
       "      <th>4</th>\n",
       "      <td>891327558926688256</td>\n",
       "      <td>NaN</td>\n",
       "      <td>NaN</td>\n",
       "      <td>2017-07-29 16:00:24 +0000</td>\n",
       "      <td>&lt;a href=\"http://twitter.com/download/iphone\" rel=\"nofollow\"&gt;Twitter for iPhone&lt;/a&gt;</td>\n",
       "      <td>This is Franklin. He would like you to stop calling him \"cute.\" He is a very fierce shark and should be respected as such. 12/10 #BarkWeek https://t.co/AtUZn91f7f</td>\n",
       "      <td>NaN</td>\n",
       "      <td>NaN</td>\n",
       "      <td>NaN</td>\n",
       "      <td>https://twitter.com/dog_rates/status/891327558926688256/photo/1,https://twitter.com/dog_rates/status/891327558926688256/photo/1</td>\n",
       "      <td>12</td>\n",
       "      <td>10</td>\n",
       "      <td>Franklin</td>\n",
       "      <td>None</td>\n",
       "      <td>None</td>\n",
       "      <td>None</td>\n",
       "      <td>None</td>\n",
       "    </tr>\n",
       "  </tbody>\n",
       "</table>\n",
       "</div>"
      ],
      "text/plain": [
       "             tweet_id  in_reply_to_status_id  in_reply_to_user_id  \\\n",
       "0  892420643555336193 NaN                    NaN                    \n",
       "1  892177421306343426 NaN                    NaN                    \n",
       "2  891815181378084864 NaN                    NaN                    \n",
       "3  891689557279858688 NaN                    NaN                    \n",
       "4  891327558926688256 NaN                    NaN                    \n",
       "\n",
       "                   timestamp  \\\n",
       "0  2017-08-01 16:23:56 +0000   \n",
       "1  2017-08-01 00:17:27 +0000   \n",
       "2  2017-07-31 00:18:03 +0000   \n",
       "3  2017-07-30 15:58:51 +0000   \n",
       "4  2017-07-29 16:00:24 +0000   \n",
       "\n",
       "                                                                               source  \\\n",
       "0  <a href=\"http://twitter.com/download/iphone\" rel=\"nofollow\">Twitter for iPhone</a>   \n",
       "1  <a href=\"http://twitter.com/download/iphone\" rel=\"nofollow\">Twitter for iPhone</a>   \n",
       "2  <a href=\"http://twitter.com/download/iphone\" rel=\"nofollow\">Twitter for iPhone</a>   \n",
       "3  <a href=\"http://twitter.com/download/iphone\" rel=\"nofollow\">Twitter for iPhone</a>   \n",
       "4  <a href=\"http://twitter.com/download/iphone\" rel=\"nofollow\">Twitter for iPhone</a>   \n",
       "\n",
       "                                                                                                                                                                 text  \\\n",
       "0  This is Phineas. He's a mystical boy. Only ever appears in the hole of a donut. 13/10 https://t.co/MgUWQ76dJU                                                        \n",
       "1  This is Tilly. She's just checking pup on you. Hopes you're doing ok. If not, she's available for pats, snugs, boops, the whole bit. 13/10 https://t.co/0Xxu71qeIV   \n",
       "2  This is Archie. He is a rare Norwegian Pouncing Corgo. Lives in the tall grass. You never know when one may strike. 12/10 https://t.co/wUnZnhtVJB                    \n",
       "3  This is Darla. She commenced a snooze mid meal. 13/10 happens to the best of us https://t.co/tD36da7qLQ                                                              \n",
       "4  This is Franklin. He would like you to stop calling him \"cute.\" He is a very fierce shark and should be respected as such. 12/10 #BarkWeek https://t.co/AtUZn91f7f   \n",
       "\n",
       "   retweeted_status_id  retweeted_status_user_id retweeted_status_timestamp  \\\n",
       "0 NaN                  NaN                        NaN                         \n",
       "1 NaN                  NaN                        NaN                         \n",
       "2 NaN                  NaN                        NaN                         \n",
       "3 NaN                  NaN                        NaN                         \n",
       "4 NaN                  NaN                        NaN                         \n",
       "\n",
       "                                                                                                                     expanded_urls  \\\n",
       "0  https://twitter.com/dog_rates/status/892420643555336193/photo/1                                                                   \n",
       "1  https://twitter.com/dog_rates/status/892177421306343426/photo/1                                                                   \n",
       "2  https://twitter.com/dog_rates/status/891815181378084864/photo/1                                                                   \n",
       "3  https://twitter.com/dog_rates/status/891689557279858688/photo/1                                                                   \n",
       "4  https://twitter.com/dog_rates/status/891327558926688256/photo/1,https://twitter.com/dog_rates/status/891327558926688256/photo/1   \n",
       "\n",
       "   rating_numerator  rating_denominator      name doggo floofer pupper puppo  \n",
       "0  13                10                  Phineas   None  None    None   None  \n",
       "1  13                10                  Tilly     None  None    None   None  \n",
       "2  12                10                  Archie    None  None    None   None  \n",
       "3  13                10                  Darla     None  None    None   None  \n",
       "4  12                10                  Franklin  None  None    None   None  "
      ]
     },
     "execution_count": 157,
     "metadata": {},
     "output_type": "execute_result"
    }
   ],
   "source": [
    "# Displauying the first 5 rows.\n",
    "\n",
    "archiveEnhanced_df.head()"
   ]
  },
  {
   "cell_type": "markdown",
   "id": "65319b19",
   "metadata": {},
   "source": [
    "#### Clearly we can see there are some missing values."
   ]
  },
  {
   "cell_type": "code",
   "execution_count": 158,
   "id": "390f49cf",
   "metadata": {},
   "outputs": [
    {
     "data": {
      "text/plain": [
       "(2356, 17)"
      ]
     },
     "execution_count": 158,
     "metadata": {},
     "output_type": "execute_result"
    }
   ],
   "source": [
    "archiveEnhanced_df.shape"
   ]
  },
  {
   "cell_type": "markdown",
   "id": "0241696c",
   "metadata": {},
   "source": [
    "#### Our dataset has 2356 rows and 17 columns. "
   ]
  },
  {
   "cell_type": "code",
   "execution_count": 159,
   "id": "4a63107d",
   "metadata": {},
   "outputs": [
    {
     "data": {
      "text/plain": [
       "array(['<a href=\"http://twitter.com/download/iphone\" rel=\"nofollow\">Twitter for iPhone</a>',\n",
       "       '<a href=\"http://twitter.com\" rel=\"nofollow\">Twitter Web Client</a>',\n",
       "       '<a href=\"http://vine.co\" rel=\"nofollow\">Vine - Make a Scene</a>',\n",
       "       '<a href=\"https://about.twitter.com/products/tweetdeck\" rel=\"nofollow\">TweetDeck</a>'],\n",
       "      dtype=object)"
      ]
     },
     "execution_count": 159,
     "metadata": {},
     "output_type": "execute_result"
    }
   ],
   "source": [
    "# Getting the unique sources.\n",
    "\n",
    "archiveEnhanced_df['source'].unique()"
   ]
  },
  {
   "cell_type": "code",
   "execution_count": 160,
   "id": "aaa0f65c",
   "metadata": {},
   "outputs": [
    {
     "data": {
      "text/plain": [
       "1813                                                                                                                                                                                                    https://twitter.com/dog_rates/status/676776431406465024/video/1\n",
       "1732                                                                    https://twitter.com/dog_rates/status/679828447187857408/photo/1,https://twitter.com/dog_rates/status/679828447187857408/photo/1,https://twitter.com/dog_rates/status/679828447187857408/photo/1\n",
       "2131                                                                                                                                                                                                    https://twitter.com/dog_rates/status/670086499208155136/photo/1\n",
       "1697                                                                                                                                                                                                    https://twitter.com/dog_rates/status/681231109724700672/photo/1\n",
       "1705                                                                    https://twitter.com/dog_rates/status/680836378243002368/photo/1,https://twitter.com/dog_rates/status/680836378243002368/photo/1,https://twitter.com/dog_rates/status/680836378243002368/photo/1\n",
       "1090                                                                                                                                                                                                    https://twitter.com/dog_rates/status/737678689543020544/photo/1\n",
       "825                                                                                                                                                                                                     https://twitter.com/dog_rates/status/769695466921623552/photo/1\n",
       "1020                                                                                                                                                                                                                                      https://vine.co/v/5BYq6hmrEI3\n",
       "223     https://twitter.com/dog_rates/status/849412302885593088/photo/1,https://twitter.com/dog_rates/status/849412302885593088/photo/1,https://twitter.com/dog_rates/status/849412302885593088/photo/1,https://twitter.com/dog_rates/status/849412302885593088/photo/1\n",
       "237                                                                                        https://www.petfinder.com/petdetail/37334596,https://twitter.com/dog_rates/status/847157206088847362/photo/1,https://twitter.com/dog_rates/status/847157206088847362/photo/1\n",
       "Name: expanded_urls, dtype: object"
      ]
     },
     "execution_count": 160,
     "metadata": {},
     "output_type": "execute_result"
    }
   ],
   "source": [
    "# Displaying the entire text on the expanded_urls column.\n",
    "\n",
    "\n",
    "pd.set_option('display.max_colwidth', None)\n",
    "\n",
    "archiveEnhanced_df['expanded_urls'].sample(10)"
   ]
  },
  {
   "cell_type": "markdown",
   "id": "31fadb7c",
   "metadata": {},
   "source": [
    "##### There are some repeated urls. We need to change that."
   ]
  },
  {
   "cell_type": "code",
   "execution_count": 161,
   "id": "257dfe5f",
   "metadata": {},
   "outputs": [
    {
     "data": {
      "text/plain": [
       "dtype('O')"
      ]
     },
     "execution_count": 161,
     "metadata": {},
     "output_type": "execute_result"
    }
   ],
   "source": [
    "# checking the timestamp datatype\n",
    "archiveEnhanced_df['timestamp'].dtypes"
   ]
  },
  {
   "cell_type": "markdown",
   "id": "45a2b044",
   "metadata": {},
   "source": [
    "##### -dtype('O') means that it is a pandas string. Timestamps should be in the date datatype."
   ]
  },
  {
   "cell_type": "code",
   "execution_count": 162,
   "id": "9edda285",
   "metadata": {
    "scrolled": true
   },
   "outputs": [
    {
     "data": {
      "text/plain": [
       "False"
      ]
     },
     "execution_count": 162,
     "metadata": {},
     "output_type": "execute_result"
    }
   ],
   "source": [
    "#checking for duplicates\n",
    "\n",
    "archiveEnhanced_df.duplicated().any()"
   ]
  },
  {
   "cell_type": "markdown",
   "id": "d273c87a",
   "metadata": {},
   "source": [
    "#### There are no duplicates"
   ]
  },
  {
   "cell_type": "code",
   "execution_count": 163,
   "id": "91e91c41",
   "metadata": {},
   "outputs": [
    {
     "data": {
      "text/plain": [
       "array([  13,   12,   14,    5,   17,   11,   10,  420,  666,    6,   15,\n",
       "        182,  960,    0,   75,    7,   84,    9,   24,    8,    1,   27,\n",
       "          3,    4,  165, 1776,  204,   50,   99,   80,   45,   60,   44,\n",
       "        143,  121,   20,   26,    2,  144,   88], dtype=int64)"
      ]
     },
     "execution_count": 163,
     "metadata": {},
     "output_type": "execute_result"
    }
   ],
   "source": [
    "# Checking for unique values in rating_numerator\n",
    "\n",
    "archiveEnhanced_df.rating_numerator.unique()"
   ]
  },
  {
   "cell_type": "code",
   "execution_count": 164,
   "id": "39cc3806",
   "metadata": {},
   "outputs": [
    {
     "data": {
      "text/plain": [
       "array([ 10,   0,  15,  70,   7,  11, 150, 170,  20,  50,  90,  80,  40,\n",
       "       130, 110,  16, 120,   2], dtype=int64)"
      ]
     },
     "execution_count": 164,
     "metadata": {},
     "output_type": "execute_result"
    }
   ],
   "source": [
    "# Checking for unique values in rating_denominator\n",
    "\n",
    "archiveEnhanced_df.rating_denominator.unique()"
   ]
  },
  {
   "cell_type": "markdown",
   "id": "4d825b95",
   "metadata": {},
   "source": [
    "#### There are rating_denominator that are not eaual to 10. We need to change them to 10."
   ]
  },
  {
   "cell_type": "code",
   "execution_count": 165,
   "id": "29f53a56",
   "metadata": {},
   "outputs": [
    {
     "data": {
      "text/plain": [
       "None          745\n",
       "a              55\n",
       "Charlie        12\n",
       "Cooper         11\n",
       "Lucy           11\n",
       "             ... \n",
       "Dex             1\n",
       "Ace             1\n",
       "Tayzie          1\n",
       "Grizzie         1\n",
       "Christoper      1\n",
       "Name: name, Length: 957, dtype: int64"
      ]
     },
     "execution_count": 165,
     "metadata": {},
     "output_type": "execute_result"
    }
   ],
   "source": [
    "# checking for counts of the names\n",
    "\n",
    "archiveEnhanced_df['name'].value_counts()"
   ]
  },
  {
   "cell_type": "markdown",
   "id": "fc0d8e9f",
   "metadata": {},
   "source": [
    "#### There is inconsistency in the name column. Some names begin in small letters. We need to change that consistency issue."
   ]
  },
  {
   "cell_type": "markdown",
   "id": "c1a3b0ad",
   "metadata": {},
   "source": [
    "## 2. Assessing imagePredictions_df"
   ]
  },
  {
   "cell_type": "code",
   "execution_count": 166,
   "id": "2afed90c",
   "metadata": {},
   "outputs": [
    {
     "data": {
      "text/html": [
       "<div>\n",
       "<style scoped>\n",
       "    .dataframe tbody tr th:only-of-type {\n",
       "        vertical-align: middle;\n",
       "    }\n",
       "\n",
       "    .dataframe tbody tr th {\n",
       "        vertical-align: top;\n",
       "    }\n",
       "\n",
       "    .dataframe thead th {\n",
       "        text-align: right;\n",
       "    }\n",
       "</style>\n",
       "<table border=\"1\" class=\"dataframe\">\n",
       "  <thead>\n",
       "    <tr style=\"text-align: right;\">\n",
       "      <th></th>\n",
       "      <th>tweet_id</th>\n",
       "      <th>jpg_url</th>\n",
       "      <th>img_num</th>\n",
       "      <th>p1</th>\n",
       "      <th>p1_conf</th>\n",
       "      <th>p1_dog</th>\n",
       "      <th>p2</th>\n",
       "      <th>p2_conf</th>\n",
       "      <th>p2_dog</th>\n",
       "      <th>p3</th>\n",
       "      <th>p3_conf</th>\n",
       "      <th>p3_dog</th>\n",
       "    </tr>\n",
       "  </thead>\n",
       "  <tbody>\n",
       "    <tr>\n",
       "      <th>0</th>\n",
       "      <td>666020888022790149</td>\n",
       "      <td>https://pbs.twimg.com/media/CT4udn0WwAA0aMy.jpg</td>\n",
       "      <td>1</td>\n",
       "      <td>Welsh_springer_spaniel</td>\n",
       "      <td>0.465074</td>\n",
       "      <td>True</td>\n",
       "      <td>collie</td>\n",
       "      <td>0.156665</td>\n",
       "      <td>True</td>\n",
       "      <td>Shetland_sheepdog</td>\n",
       "      <td>0.061428</td>\n",
       "      <td>True</td>\n",
       "    </tr>\n",
       "    <tr>\n",
       "      <th>1</th>\n",
       "      <td>666029285002620928</td>\n",
       "      <td>https://pbs.twimg.com/media/CT42GRgUYAA5iDo.jpg</td>\n",
       "      <td>1</td>\n",
       "      <td>redbone</td>\n",
       "      <td>0.506826</td>\n",
       "      <td>True</td>\n",
       "      <td>miniature_pinscher</td>\n",
       "      <td>0.074192</td>\n",
       "      <td>True</td>\n",
       "      <td>Rhodesian_ridgeback</td>\n",
       "      <td>0.072010</td>\n",
       "      <td>True</td>\n",
       "    </tr>\n",
       "    <tr>\n",
       "      <th>2</th>\n",
       "      <td>666033412701032449</td>\n",
       "      <td>https://pbs.twimg.com/media/CT4521TWwAEvMyu.jpg</td>\n",
       "      <td>1</td>\n",
       "      <td>German_shepherd</td>\n",
       "      <td>0.596461</td>\n",
       "      <td>True</td>\n",
       "      <td>malinois</td>\n",
       "      <td>0.138584</td>\n",
       "      <td>True</td>\n",
       "      <td>bloodhound</td>\n",
       "      <td>0.116197</td>\n",
       "      <td>True</td>\n",
       "    </tr>\n",
       "    <tr>\n",
       "      <th>3</th>\n",
       "      <td>666044226329800704</td>\n",
       "      <td>https://pbs.twimg.com/media/CT5Dr8HUEAA-lEu.jpg</td>\n",
       "      <td>1</td>\n",
       "      <td>Rhodesian_ridgeback</td>\n",
       "      <td>0.408143</td>\n",
       "      <td>True</td>\n",
       "      <td>redbone</td>\n",
       "      <td>0.360687</td>\n",
       "      <td>True</td>\n",
       "      <td>miniature_pinscher</td>\n",
       "      <td>0.222752</td>\n",
       "      <td>True</td>\n",
       "    </tr>\n",
       "    <tr>\n",
       "      <th>4</th>\n",
       "      <td>666049248165822465</td>\n",
       "      <td>https://pbs.twimg.com/media/CT5IQmsXIAAKY4A.jpg</td>\n",
       "      <td>1</td>\n",
       "      <td>miniature_pinscher</td>\n",
       "      <td>0.560311</td>\n",
       "      <td>True</td>\n",
       "      <td>Rottweiler</td>\n",
       "      <td>0.243682</td>\n",
       "      <td>True</td>\n",
       "      <td>Doberman</td>\n",
       "      <td>0.154629</td>\n",
       "      <td>True</td>\n",
       "    </tr>\n",
       "  </tbody>\n",
       "</table>\n",
       "</div>"
      ],
      "text/plain": [
       "             tweet_id                                          jpg_url  \\\n",
       "0  666020888022790149  https://pbs.twimg.com/media/CT4udn0WwAA0aMy.jpg   \n",
       "1  666029285002620928  https://pbs.twimg.com/media/CT42GRgUYAA5iDo.jpg   \n",
       "2  666033412701032449  https://pbs.twimg.com/media/CT4521TWwAEvMyu.jpg   \n",
       "3  666044226329800704  https://pbs.twimg.com/media/CT5Dr8HUEAA-lEu.jpg   \n",
       "4  666049248165822465  https://pbs.twimg.com/media/CT5IQmsXIAAKY4A.jpg   \n",
       "\n",
       "   img_num                      p1   p1_conf  p1_dog                  p2  \\\n",
       "0        1  Welsh_springer_spaniel  0.465074    True              collie   \n",
       "1        1                 redbone  0.506826    True  miniature_pinscher   \n",
       "2        1         German_shepherd  0.596461    True            malinois   \n",
       "3        1     Rhodesian_ridgeback  0.408143    True             redbone   \n",
       "4        1      miniature_pinscher  0.560311    True          Rottweiler   \n",
       "\n",
       "    p2_conf  p2_dog                   p3   p3_conf  p3_dog  \n",
       "0  0.156665    True    Shetland_sheepdog  0.061428    True  \n",
       "1  0.074192    True  Rhodesian_ridgeback  0.072010    True  \n",
       "2  0.138584    True           bloodhound  0.116197    True  \n",
       "3  0.360687    True   miniature_pinscher  0.222752    True  \n",
       "4  0.243682    True             Doberman  0.154629    True  "
      ]
     },
     "execution_count": 166,
     "metadata": {},
     "output_type": "execute_result"
    }
   ],
   "source": [
    "# Displaying the first 5 rows.\n",
    "\n",
    "imagePredictions_df.head()"
   ]
  },
  {
   "cell_type": "code",
   "execution_count": 167,
   "id": "b5f3a1a5",
   "metadata": {},
   "outputs": [
    {
     "data": {
      "text/plain": [
       "(2075, 12)"
      ]
     },
     "execution_count": 167,
     "metadata": {},
     "output_type": "execute_result"
    }
   ],
   "source": [
    "imagePredictions_df.shape"
   ]
  },
  {
   "cell_type": "markdown",
   "id": "0c566c1e",
   "metadata": {},
   "source": [
    "#### Our dataset has 2075 rows and 12 columns. "
   ]
  },
  {
   "cell_type": "code",
   "execution_count": 168,
   "id": "7329f9da",
   "metadata": {},
   "outputs": [
    {
     "name": "stdout",
     "output_type": "stream",
     "text": [
      "<class 'pandas.core.frame.DataFrame'>\n",
      "RangeIndex: 2075 entries, 0 to 2074\n",
      "Data columns (total 12 columns):\n",
      " #   Column    Non-Null Count  Dtype  \n",
      "---  ------    --------------  -----  \n",
      " 0   tweet_id  2075 non-null   int64  \n",
      " 1   jpg_url   2075 non-null   object \n",
      " 2   img_num   2075 non-null   int64  \n",
      " 3   p1        2075 non-null   object \n",
      " 4   p1_conf   2075 non-null   float64\n",
      " 5   p1_dog    2075 non-null   bool   \n",
      " 6   p2        2075 non-null   object \n",
      " 7   p2_conf   2075 non-null   float64\n",
      " 8   p2_dog    2075 non-null   bool   \n",
      " 9   p3        2075 non-null   object \n",
      " 10  p3_conf   2075 non-null   float64\n",
      " 11  p3_dog    2075 non-null   bool   \n",
      "dtypes: bool(3), float64(3), int64(2), object(4)\n",
      "memory usage: 152.1+ KB\n"
     ]
    }
   ],
   "source": [
    "imagePredictions_df.info()"
   ]
  },
  {
   "cell_type": "markdown",
   "id": "3bcc8ed9",
   "metadata": {},
   "source": [
    "#### There are no missing values in our dataset. However, we have incorrect datatype in the tweet_id. There are non-descriptive column headers also."
   ]
  },
  {
   "cell_type": "code",
   "execution_count": 169,
   "id": "4856f0a6",
   "metadata": {},
   "outputs": [
    {
     "data": {
      "text/html": [
       "<div>\n",
       "<style scoped>\n",
       "    .dataframe tbody tr th:only-of-type {\n",
       "        vertical-align: middle;\n",
       "    }\n",
       "\n",
       "    .dataframe tbody tr th {\n",
       "        vertical-align: top;\n",
       "    }\n",
       "\n",
       "    .dataframe thead th {\n",
       "        text-align: right;\n",
       "    }\n",
       "</style>\n",
       "<table border=\"1\" class=\"dataframe\">\n",
       "  <thead>\n",
       "    <tr style=\"text-align: right;\">\n",
       "      <th></th>\n",
       "      <th>tweet_id</th>\n",
       "      <th>img_num</th>\n",
       "      <th>p1_conf</th>\n",
       "      <th>p2_conf</th>\n",
       "      <th>p3_conf</th>\n",
       "    </tr>\n",
       "  </thead>\n",
       "  <tbody>\n",
       "    <tr>\n",
       "      <th>count</th>\n",
       "      <td>2.075000e+03</td>\n",
       "      <td>2075.000000</td>\n",
       "      <td>2075.000000</td>\n",
       "      <td>2.075000e+03</td>\n",
       "      <td>2.075000e+03</td>\n",
       "    </tr>\n",
       "    <tr>\n",
       "      <th>mean</th>\n",
       "      <td>7.384514e+17</td>\n",
       "      <td>1.203855</td>\n",
       "      <td>0.594548</td>\n",
       "      <td>1.345886e-01</td>\n",
       "      <td>6.032417e-02</td>\n",
       "    </tr>\n",
       "    <tr>\n",
       "      <th>std</th>\n",
       "      <td>6.785203e+16</td>\n",
       "      <td>0.561875</td>\n",
       "      <td>0.271174</td>\n",
       "      <td>1.006657e-01</td>\n",
       "      <td>5.090593e-02</td>\n",
       "    </tr>\n",
       "    <tr>\n",
       "      <th>min</th>\n",
       "      <td>6.660209e+17</td>\n",
       "      <td>1.000000</td>\n",
       "      <td>0.044333</td>\n",
       "      <td>1.011300e-08</td>\n",
       "      <td>1.740170e-10</td>\n",
       "    </tr>\n",
       "    <tr>\n",
       "      <th>25%</th>\n",
       "      <td>6.764835e+17</td>\n",
       "      <td>1.000000</td>\n",
       "      <td>0.364412</td>\n",
       "      <td>5.388625e-02</td>\n",
       "      <td>1.622240e-02</td>\n",
       "    </tr>\n",
       "    <tr>\n",
       "      <th>50%</th>\n",
       "      <td>7.119988e+17</td>\n",
       "      <td>1.000000</td>\n",
       "      <td>0.588230</td>\n",
       "      <td>1.181810e-01</td>\n",
       "      <td>4.944380e-02</td>\n",
       "    </tr>\n",
       "    <tr>\n",
       "      <th>75%</th>\n",
       "      <td>7.932034e+17</td>\n",
       "      <td>1.000000</td>\n",
       "      <td>0.843855</td>\n",
       "      <td>1.955655e-01</td>\n",
       "      <td>9.180755e-02</td>\n",
       "    </tr>\n",
       "    <tr>\n",
       "      <th>max</th>\n",
       "      <td>8.924206e+17</td>\n",
       "      <td>4.000000</td>\n",
       "      <td>1.000000</td>\n",
       "      <td>4.880140e-01</td>\n",
       "      <td>2.734190e-01</td>\n",
       "    </tr>\n",
       "  </tbody>\n",
       "</table>\n",
       "</div>"
      ],
      "text/plain": [
       "           tweet_id      img_num      p1_conf       p2_conf       p3_conf\n",
       "count  2.075000e+03  2075.000000  2075.000000  2.075000e+03  2.075000e+03\n",
       "mean   7.384514e+17     1.203855     0.594548  1.345886e-01  6.032417e-02\n",
       "std    6.785203e+16     0.561875     0.271174  1.006657e-01  5.090593e-02\n",
       "min    6.660209e+17     1.000000     0.044333  1.011300e-08  1.740170e-10\n",
       "25%    6.764835e+17     1.000000     0.364412  5.388625e-02  1.622240e-02\n",
       "50%    7.119988e+17     1.000000     0.588230  1.181810e-01  4.944380e-02\n",
       "75%    7.932034e+17     1.000000     0.843855  1.955655e-01  9.180755e-02\n",
       "max    8.924206e+17     4.000000     1.000000  4.880140e-01  2.734190e-01"
      ]
     },
     "execution_count": 169,
     "metadata": {},
     "output_type": "execute_result"
    }
   ],
   "source": [
    "imagePredictions_df.describe()"
   ]
  },
  {
   "cell_type": "markdown",
   "id": "90fb4370",
   "metadata": {},
   "source": [
    "#### tweet_id should be changed to a string datatype."
   ]
  },
  {
   "cell_type": "code",
   "execution_count": 170,
   "id": "0e83bf2f",
   "metadata": {},
   "outputs": [
    {
     "data": {
      "text/plain": [
       "1    1780\n",
       "2     198\n",
       "3      66\n",
       "4      31\n",
       "Name: img_num, dtype: int64"
      ]
     },
     "execution_count": 170,
     "metadata": {},
     "output_type": "execute_result"
    }
   ],
   "source": [
    "# Getting the counts of img-num. It has only 4 counts so we could make it a categorical.\n",
    "\n",
    "imagePredictions_df['img_num'].value_counts()"
   ]
  },
  {
   "cell_type": "markdown",
   "id": "a62734b0",
   "metadata": {},
   "source": [
    "#### checking the datatypes"
   ]
  },
  {
   "cell_type": "code",
   "execution_count": 171,
   "id": "7225813a",
   "metadata": {},
   "outputs": [
    {
     "data": {
      "text/plain": [
       "dtype('int64')"
      ]
     },
     "execution_count": 171,
     "metadata": {},
     "output_type": "execute_result"
    }
   ],
   "source": [
    "imagePredictions_df['img_num'].dtype"
   ]
  },
  {
   "cell_type": "code",
   "execution_count": 172,
   "id": "b085c787",
   "metadata": {},
   "outputs": [
    {
     "data": {
      "text/plain": [
       "dtype('O')"
      ]
     },
     "execution_count": 172,
     "metadata": {},
     "output_type": "execute_result"
    }
   ],
   "source": [
    "imagePredictions_df['p1'].dtype"
   ]
  },
  {
   "cell_type": "code",
   "execution_count": 173,
   "id": "5657d3bb",
   "metadata": {},
   "outputs": [
    {
     "data": {
      "text/plain": [
       "dtype('O')"
      ]
     },
     "execution_count": 173,
     "metadata": {},
     "output_type": "execute_result"
    }
   ],
   "source": [
    "imagePredictions_df['p2'].dtype"
   ]
  },
  {
   "cell_type": "code",
   "execution_count": 174,
   "id": "2384ce4a",
   "metadata": {},
   "outputs": [
    {
     "data": {
      "text/plain": [
       "dtype('O')"
      ]
     },
     "execution_count": 174,
     "metadata": {},
     "output_type": "execute_result"
    }
   ],
   "source": [
    "imagePredictions_df['p3'].dtype"
   ]
  },
  {
   "cell_type": "markdown",
   "id": "b23bc68f",
   "metadata": {},
   "source": [
    "## 3. Assessing additionalTweets_df"
   ]
  },
  {
   "cell_type": "code",
   "execution_count": 175,
   "id": "6a395daf",
   "metadata": {},
   "outputs": [
    {
     "data": {
      "text/html": [
       "<div>\n",
       "<style scoped>\n",
       "    .dataframe tbody tr th:only-of-type {\n",
       "        vertical-align: middle;\n",
       "    }\n",
       "\n",
       "    .dataframe tbody tr th {\n",
       "        vertical-align: top;\n",
       "    }\n",
       "\n",
       "    .dataframe thead th {\n",
       "        text-align: right;\n",
       "    }\n",
       "</style>\n",
       "<table border=\"1\" class=\"dataframe\">\n",
       "  <thead>\n",
       "    <tr style=\"text-align: right;\">\n",
       "      <th></th>\n",
       "      <th>id</th>\n",
       "      <th>retweet_count</th>\n",
       "      <th>favorite_count</th>\n",
       "    </tr>\n",
       "  </thead>\n",
       "  <tbody>\n",
       "    <tr>\n",
       "      <th>0</th>\n",
       "      <td>892420643555336193</td>\n",
       "      <td>7019</td>\n",
       "      <td>33843</td>\n",
       "    </tr>\n",
       "    <tr>\n",
       "      <th>1</th>\n",
       "      <td>892177421306343426</td>\n",
       "      <td>5303</td>\n",
       "      <td>29360</td>\n",
       "    </tr>\n",
       "    <tr>\n",
       "      <th>2</th>\n",
       "      <td>891815181378084864</td>\n",
       "      <td>3486</td>\n",
       "      <td>22077</td>\n",
       "    </tr>\n",
       "    <tr>\n",
       "      <th>3</th>\n",
       "      <td>891689557279858688</td>\n",
       "      <td>7232</td>\n",
       "      <td>36974</td>\n",
       "    </tr>\n",
       "    <tr>\n",
       "      <th>4</th>\n",
       "      <td>891327558926688256</td>\n",
       "      <td>7772</td>\n",
       "      <td>35344</td>\n",
       "    </tr>\n",
       "  </tbody>\n",
       "</table>\n",
       "</div>"
      ],
      "text/plain": [
       "                   id  retweet_count  favorite_count\n",
       "0  892420643555336193           7019           33843\n",
       "1  892177421306343426           5303           29360\n",
       "2  891815181378084864           3486           22077\n",
       "3  891689557279858688           7232           36974\n",
       "4  891327558926688256           7772           35344"
      ]
     },
     "execution_count": 175,
     "metadata": {},
     "output_type": "execute_result"
    }
   ],
   "source": [
    "# Displaying the 5 first rows.\n",
    "\n",
    "additionalTweets_df.head()"
   ]
  },
  {
   "cell_type": "code",
   "execution_count": 176,
   "id": "e12893a3",
   "metadata": {},
   "outputs": [
    {
     "data": {
      "text/plain": [
       "(2326, 3)"
      ]
     },
     "execution_count": 176,
     "metadata": {},
     "output_type": "execute_result"
    }
   ],
   "source": [
    "# getting the shape of the dataframe.\n",
    "\n",
    "additionalTweets_df.shape"
   ]
  },
  {
   "cell_type": "markdown",
   "id": "e0e12b56",
   "metadata": {},
   "source": [
    "#### Our dataframe has 2326 rows and only 3 columns."
   ]
  },
  {
   "cell_type": "code",
   "execution_count": 177,
   "id": "5297fe79",
   "metadata": {},
   "outputs": [
    {
     "name": "stdout",
     "output_type": "stream",
     "text": [
      "<class 'pandas.core.frame.DataFrame'>\n",
      "RangeIndex: 2326 entries, 0 to 2325\n",
      "Data columns (total 3 columns):\n",
      " #   Column          Non-Null Count  Dtype\n",
      "---  ------          --------------  -----\n",
      " 0   id              2326 non-null   int64\n",
      " 1   retweet_count   2326 non-null   int64\n",
      " 2   favorite_count  2326 non-null   int64\n",
      "dtypes: int64(3)\n",
      "memory usage: 54.6 KB\n"
     ]
    }
   ],
   "source": [
    "additionalTweets_df.info()"
   ]
  },
  {
   "cell_type": "markdown",
   "id": "0b7660cc",
   "metadata": {},
   "source": [
    "#### id should be made tweet_id to match the other ids. its datatype should also be made a string."
   ]
  },
  {
   "cell_type": "code",
   "execution_count": 178,
   "id": "b21bedbf",
   "metadata": {},
   "outputs": [
    {
     "data": {
      "text/html": [
       "<div>\n",
       "<style scoped>\n",
       "    .dataframe tbody tr th:only-of-type {\n",
       "        vertical-align: middle;\n",
       "    }\n",
       "\n",
       "    .dataframe tbody tr th {\n",
       "        vertical-align: top;\n",
       "    }\n",
       "\n",
       "    .dataframe thead th {\n",
       "        text-align: right;\n",
       "    }\n",
       "</style>\n",
       "<table border=\"1\" class=\"dataframe\">\n",
       "  <thead>\n",
       "    <tr style=\"text-align: right;\">\n",
       "      <th></th>\n",
       "      <th>id</th>\n",
       "      <th>retweet_count</th>\n",
       "      <th>favorite_count</th>\n",
       "    </tr>\n",
       "  </thead>\n",
       "  <tbody>\n",
       "    <tr>\n",
       "      <th>count</th>\n",
       "      <td>2.326000e+03</td>\n",
       "      <td>2326.000000</td>\n",
       "      <td>2326.000000</td>\n",
       "    </tr>\n",
       "    <tr>\n",
       "      <th>mean</th>\n",
       "      <td>7.417612e+17</td>\n",
       "      <td>2474.404127</td>\n",
       "      <td>7059.825881</td>\n",
       "    </tr>\n",
       "    <tr>\n",
       "      <th>std</th>\n",
       "      <td>6.820537e+16</td>\n",
       "      <td>4190.952556</td>\n",
       "      <td>10974.567996</td>\n",
       "    </tr>\n",
       "    <tr>\n",
       "      <th>min</th>\n",
       "      <td>6.660209e+17</td>\n",
       "      <td>1.000000</td>\n",
       "      <td>0.000000</td>\n",
       "    </tr>\n",
       "    <tr>\n",
       "      <th>25%</th>\n",
       "      <td>6.780814e+17</td>\n",
       "      <td>495.250000</td>\n",
       "      <td>1224.250000</td>\n",
       "    </tr>\n",
       "    <tr>\n",
       "      <th>50%</th>\n",
       "      <td>7.178159e+17</td>\n",
       "      <td>1149.500000</td>\n",
       "      <td>3053.000000</td>\n",
       "    </tr>\n",
       "    <tr>\n",
       "      <th>75%</th>\n",
       "      <td>7.986402e+17</td>\n",
       "      <td>2865.750000</td>\n",
       "      <td>8599.500000</td>\n",
       "    </tr>\n",
       "    <tr>\n",
       "      <th>max</th>\n",
       "      <td>8.924206e+17</td>\n",
       "      <td>70838.000000</td>\n",
       "      <td>145027.000000</td>\n",
       "    </tr>\n",
       "  </tbody>\n",
       "</table>\n",
       "</div>"
      ],
      "text/plain": [
       "                 id  retweet_count  favorite_count\n",
       "count  2.326000e+03    2326.000000     2326.000000\n",
       "mean   7.417612e+17    2474.404127     7059.825881\n",
       "std    6.820537e+16    4190.952556    10974.567996\n",
       "min    6.660209e+17       1.000000        0.000000\n",
       "25%    6.780814e+17     495.250000     1224.250000\n",
       "50%    7.178159e+17    1149.500000     3053.000000\n",
       "75%    7.986402e+17    2865.750000     8599.500000\n",
       "max    8.924206e+17   70838.000000   145027.000000"
      ]
     },
     "execution_count": 178,
     "metadata": {},
     "output_type": "execute_result"
    }
   ],
   "source": [
    "additionalTweets_df.describe()"
   ]
  },
  {
   "cell_type": "markdown",
   "id": "bbc6f607",
   "metadata": {},
   "source": [
    "## Quality issues\n",
    "\n",
    "### 1. archiveEnhanced_df\n",
    "\n",
    "1. icorrect datatypes (in the tweet_id, timestamp columns.)\n",
    "2. Inconsistent data. (there are rows with retweets and replies information yet we want only the original tweets.)\n",
    "3. Non-descriptive column header in the timestamp column. It should be changed to a more descriptive header like tweet_Date.\n",
    "4. Extract the actual source from the source column.\n",
    "5. Some rating_denominators are not equal to 10.\n",
    "6. Inconstinstency in the name column.\n",
    "#### imagePredictions_df\n",
    "7. Non-descriptive column headers in p1, p1_conf, p1_dog, p2, p2_conf, p2_dog, p3, p3_conf, and p3_dog \n",
    "8. incorrect datatype in tweet_id \n",
    "\n",
    "#### additionalTweets_df\n",
    "9. tweet_id should have string datatype\n",
    "\n"
   ]
  },
  {
   "cell_type": "markdown",
   "id": "faaf959c",
   "metadata": {},
   "source": [
    "\n",
    "## Tidiness issues\n",
    "1. One variable has been split into 4 columns(doggo, floofer,puppo, pupper).These columns should be merged to a single column named dog_stage\n",
    "2. Dropping columns with so many missing values.\n",
    "3. Derive ratings column based on the rating_numerator and drating_denominator\n",
    "4. 3 datasets have information of the same thing(dogs). The 3 datasets should be merged.\n",
    "\n"
   ]
  },
  {
   "cell_type": "markdown",
   "id": "ba86ad87",
   "metadata": {},
   "source": [
    "# Cleaning Data\n",
    "\n",
    "#### In this section, clean **all** of the issues you documented while assessing.\n",
    "\n",
    "#### **Note:** Make a copy of the original data before cleaning. Cleaning includes merging individual pieces of data according to the rules of [tidy data](https://cran.r-project.org/web/packages/tidyr/vignettes/tidy-data.html). The result should be a high-quality and tidy master pandas DataFrame (or DataFrames, if appropriate)."
   ]
  },
  {
   "cell_type": "code",
   "execution_count": 179,
   "id": "73efa970",
   "metadata": {},
   "outputs": [],
   "source": [
    "# Make copies of original pieces of data\n",
    "archiveEnhanced_df_clean = archiveEnhanced_df.copy()\n",
    "imagePredictions_df_clean = imagePredictions_df.copy()\n",
    "additionalTweets_df_clean = additionalTweets_df.copy()"
   ]
  },
  {
   "cell_type": "markdown",
   "id": "9d1ad04b",
   "metadata": {},
   "source": [
    "#### #1. Define:\n",
    "\n",
    "icorrect datatypes (in the tweet_id, timestamp columns.)"
   ]
  },
  {
   "cell_type": "markdown",
   "id": "ba9ff90f",
   "metadata": {},
   "source": [
    "#### Code\n",
    "\n"
   ]
  },
  {
   "cell_type": "code",
   "execution_count": 180,
   "id": "bbe704b8",
   "metadata": {},
   "outputs": [],
   "source": [
    "archiveEnhanced_df_clean['tweet_id'] = archiveEnhanced_df_clean['tweet_id'].astype(str)\n",
    "imagePredictions_df_clean['tweet_id'] = imagePredictions_df_clean['tweet_id'].astype(str)\n",
    "archiveEnhanced_df['timestamp'] = pd.to_datetime(archiveEnhanced_df['timestamp'])"
   ]
  },
  {
   "cell_type": "markdown",
   "id": "b30affdf",
   "metadata": {},
   "source": [
    "#### Test"
   ]
  },
  {
   "cell_type": "code",
   "execution_count": 181,
   "id": "980e33b6",
   "metadata": {},
   "outputs": [
    {
     "name": "stdout",
     "output_type": "stream",
     "text": [
      "<class 'pandas.core.frame.DataFrame'>\n",
      "RangeIndex: 2356 entries, 0 to 2355\n",
      "Data columns (total 17 columns):\n",
      " #   Column                      Non-Null Count  Dtype  \n",
      "---  ------                      --------------  -----  \n",
      " 0   tweet_id                    2356 non-null   object \n",
      " 1   in_reply_to_status_id       78 non-null     float64\n",
      " 2   in_reply_to_user_id         78 non-null     float64\n",
      " 3   timestamp                   2356 non-null   object \n",
      " 4   source                      2356 non-null   object \n",
      " 5   text                        2356 non-null   object \n",
      " 6   retweeted_status_id         181 non-null    float64\n",
      " 7   retweeted_status_user_id    181 non-null    float64\n",
      " 8   retweeted_status_timestamp  181 non-null    object \n",
      " 9   expanded_urls               2297 non-null   object \n",
      " 10  rating_numerator            2356 non-null   int64  \n",
      " 11  rating_denominator          2356 non-null   int64  \n",
      " 12  name                        2356 non-null   object \n",
      " 13  doggo                       2356 non-null   object \n",
      " 14  floofer                     2356 non-null   object \n",
      " 15  pupper                      2356 non-null   object \n",
      " 16  puppo                       2356 non-null   object \n",
      "dtypes: float64(4), int64(2), object(11)\n",
      "memory usage: 313.0+ KB\n"
     ]
    }
   ],
   "source": [
    "archiveEnhanced_df_clean.info()"
   ]
  },
  {
   "cell_type": "markdown",
   "id": "c0f867be",
   "metadata": {},
   "source": [
    "#### #2. Define:\n",
    " Inconsistent data. (there are rows with retweets and replies information yet we want only the original tweets.)"
   ]
  },
  {
   "cell_type": "markdown",
   "id": "41f14729",
   "metadata": {},
   "source": [
    "#### Code\n",
    "We had previously queried out rows that either contain retweets and replies. We will just drop these rows."
   ]
  },
  {
   "cell_type": "code",
   "execution_count": 182,
   "id": "7a6f1ee5",
   "metadata": {},
   "outputs": [],
   "source": [
    "# Geting the rows with retweets_or_replies\n",
    "\n",
    "retweets_or_replies = archiveEnhanced_df_clean[(archiveEnhanced_df_clean['in_reply_to_user_id'].notnull()) | \n",
    "          (archiveEnhanced_df_clean['retweeted_status_id'].notnull())] \n",
    "\n",
    "# dropping the rows with retweets_or_replies\n",
    "archiveEnhanced_df_clean.drop(retweets_or_replies.index, axis=0, inplace =True)"
   ]
  },
  {
   "cell_type": "markdown",
   "id": "2eeb4795",
   "metadata": {},
   "source": [
    "#### Test"
   ]
  },
  {
   "cell_type": "code",
   "execution_count": 183,
   "id": "b6964d3f",
   "metadata": {},
   "outputs": [
    {
     "data": {
      "text/html": [
       "<div>\n",
       "<style scoped>\n",
       "    .dataframe tbody tr th:only-of-type {\n",
       "        vertical-align: middle;\n",
       "    }\n",
       "\n",
       "    .dataframe tbody tr th {\n",
       "        vertical-align: top;\n",
       "    }\n",
       "\n",
       "    .dataframe thead th {\n",
       "        text-align: right;\n",
       "    }\n",
       "</style>\n",
       "<table border=\"1\" class=\"dataframe\">\n",
       "  <thead>\n",
       "    <tr style=\"text-align: right;\">\n",
       "      <th></th>\n",
       "      <th>tweet_id</th>\n",
       "      <th>in_reply_to_status_id</th>\n",
       "      <th>in_reply_to_user_id</th>\n",
       "      <th>timestamp</th>\n",
       "      <th>source</th>\n",
       "      <th>text</th>\n",
       "      <th>retweeted_status_id</th>\n",
       "      <th>retweeted_status_user_id</th>\n",
       "      <th>retweeted_status_timestamp</th>\n",
       "      <th>expanded_urls</th>\n",
       "      <th>rating_numerator</th>\n",
       "      <th>rating_denominator</th>\n",
       "      <th>name</th>\n",
       "      <th>doggo</th>\n",
       "      <th>floofer</th>\n",
       "      <th>pupper</th>\n",
       "      <th>puppo</th>\n",
       "    </tr>\n",
       "  </thead>\n",
       "  <tbody>\n",
       "  </tbody>\n",
       "</table>\n",
       "</div>"
      ],
      "text/plain": [
       "Empty DataFrame\n",
       "Columns: [tweet_id, in_reply_to_status_id, in_reply_to_user_id, timestamp, source, text, retweeted_status_id, retweeted_status_user_id, retweeted_status_timestamp, expanded_urls, rating_numerator, rating_denominator, name, doggo, floofer, pupper, puppo]\n",
       "Index: []"
      ]
     },
     "execution_count": 183,
     "metadata": {},
     "output_type": "execute_result"
    }
   ],
   "source": [
    "\n",
    "archiveEnhanced_df_clean[(archiveEnhanced_df_clean['in_reply_to_user_id'].notnull()) | \n",
    "          (archiveEnhanced_df_clean['retweeted_status_id'].notnull())] "
   ]
  },
  {
   "cell_type": "markdown",
   "id": "2030cb9a",
   "metadata": {},
   "source": [
    "#### #3. Define:\n",
    " Non-descriptive column header in the timestamp column. It should be changed to a more descriptive header like tweet_Date."
   ]
  },
  {
   "cell_type": "markdown",
   "id": "3ac1197d",
   "metadata": {},
   "source": [
    "#### Code"
   ]
  },
  {
   "cell_type": "code",
   "execution_count": 184,
   "id": "7a384c5a",
   "metadata": {},
   "outputs": [],
   "source": [
    "archiveEnhanced_df_clean = archiveEnhanced_df_clean.rename(columns = {'timestamp': 'tweet_date'})"
   ]
  },
  {
   "cell_type": "markdown",
   "id": "fd5a3fea",
   "metadata": {},
   "source": [
    "#### Test"
   ]
  },
  {
   "cell_type": "code",
   "execution_count": 185,
   "id": "0610cc85",
   "metadata": {},
   "outputs": [
    {
     "data": {
      "text/plain": [
       "Index(['tweet_id', 'in_reply_to_status_id', 'in_reply_to_user_id',\n",
       "       'tweet_date', 'source', 'text', 'retweeted_status_id',\n",
       "       'retweeted_status_user_id', 'retweeted_status_timestamp',\n",
       "       'expanded_urls', 'rating_numerator', 'rating_denominator', 'name',\n",
       "       'doggo', 'floofer', 'pupper', 'puppo'],\n",
       "      dtype='object')"
      ]
     },
     "execution_count": 185,
     "metadata": {},
     "output_type": "execute_result"
    }
   ],
   "source": [
    "archiveEnhanced_df_clean.columns"
   ]
  },
  {
   "cell_type": "markdown",
   "id": "5faefcd2",
   "metadata": {},
   "source": [
    "##### #4 Define.\n",
    "Extract the actual source from the source column."
   ]
  },
  {
   "cell_type": "markdown",
   "id": "df6ff03b",
   "metadata": {},
   "source": [
    "#### Code"
   ]
  },
  {
   "cell_type": "code",
   "execution_count": 186,
   "id": "c07aadc7",
   "metadata": {},
   "outputs": [
    {
     "name": "stderr",
     "output_type": "stream",
     "text": [
      "C:\\Users\\mwendwa\\anaconda3\\envs\\Udacity_Projects\\lib\\site-packages\\ipykernel_launcher.py:3: FutureWarning: Passing a negative integer is deprecated in version 1.0 and will not be supported in future version. Instead, use None to not limit the column width.\n",
      "  This is separate from the ipykernel package so we can avoid doing imports until\n"
     ]
    },
    {
     "data": {
      "text/plain": [
       "0       <a href=\"http://twitter.com/download/iphone\" rel=\"nofollow\">Twitter for iPhone</a>\n",
       "1       <a href=\"http://twitter.com/download/iphone\" rel=\"nofollow\">Twitter for iPhone</a>\n",
       "2       <a href=\"http://twitter.com/download/iphone\" rel=\"nofollow\">Twitter for iPhone</a>\n",
       "3       <a href=\"http://twitter.com/download/iphone\" rel=\"nofollow\">Twitter for iPhone</a>\n",
       "4       <a href=\"http://twitter.com/download/iphone\" rel=\"nofollow\">Twitter for iPhone</a>\n",
       "                                               ...                                        \n",
       "2351    <a href=\"http://twitter.com/download/iphone\" rel=\"nofollow\">Twitter for iPhone</a>\n",
       "2352    <a href=\"http://twitter.com/download/iphone\" rel=\"nofollow\">Twitter for iPhone</a>\n",
       "2353    <a href=\"http://twitter.com/download/iphone\" rel=\"nofollow\">Twitter for iPhone</a>\n",
       "2354    <a href=\"http://twitter.com/download/iphone\" rel=\"nofollow\">Twitter for iPhone</a>\n",
       "2355    <a href=\"http://twitter.com/download/iphone\" rel=\"nofollow\">Twitter for iPhone</a>\n",
       "Name: source, Length: 2097, dtype: object"
      ]
     },
     "execution_count": 186,
     "metadata": {},
     "output_type": "execute_result"
    }
   ],
   "source": [
    "# Getting the whole source text \n",
    "\n",
    "pd.set_option('display.max_colwidth', -1)\n",
    "archiveEnhanced_df_clean.source"
   ]
  },
  {
   "cell_type": "code",
   "execution_count": 187,
   "id": "37bba5ec",
   "metadata": {},
   "outputs": [
    {
     "data": {
      "text/plain": [
       "0       Twitter for iPhone\n",
       "1       Twitter for iPhone\n",
       "2       Twitter for iPhone\n",
       "3       Twitter for iPhone\n",
       "4       Twitter for iPhone\n",
       "               ...        \n",
       "2351    Twitter for iPhone\n",
       "2352    Twitter for iPhone\n",
       "2353    Twitter for iPhone\n",
       "2354    Twitter for iPhone\n",
       "2355    Twitter for iPhone\n",
       "Name: source, Length: 2097, dtype: object"
      ]
     },
     "execution_count": 187,
     "metadata": {},
     "output_type": "execute_result"
    }
   ],
   "source": [
    "# Doing the actual extraction\n",
    "\n",
    "archiveEnhanced_df_clean.source = archiveEnhanced_df_clean.source.str.split('>', expand=True)[1].str.split('<', expand=True)[0]\n",
    "archiveEnhanced_df_clean.source"
   ]
  },
  {
   "cell_type": "markdown",
   "id": "62f1eaff",
   "metadata": {},
   "source": [
    "#### Test"
   ]
  },
  {
   "cell_type": "code",
   "execution_count": 188,
   "id": "1c8f22a6",
   "metadata": {},
   "outputs": [
    {
     "data": {
      "text/plain": [
       "Twitter for iPhone     1964\n",
       "Vine - Make a Scene    91  \n",
       "Twitter Web Client     31  \n",
       "TweetDeck              11  \n",
       "Name: source, dtype: int64"
      ]
     },
     "execution_count": 188,
     "metadata": {},
     "output_type": "execute_result"
    }
   ],
   "source": [
    "archiveEnhanced_df_clean.source.value_counts()"
   ]
  },
  {
   "cell_type": "markdown",
   "id": "8f2b6cd3",
   "metadata": {},
   "source": [
    "#### #5. Define:\n",
    "Some rating_denominators are not equal to 10."
   ]
  },
  {
   "cell_type": "markdown",
   "id": "a04aa521",
   "metadata": {},
   "source": [
    "#### Code"
   ]
  },
  {
   "cell_type": "code",
   "execution_count": 189,
   "id": "303b3303",
   "metadata": {},
   "outputs": [],
   "source": [
    "# Getting the rating_denominator that aren't equal to 10\n",
    "\n",
    "Denominator_Not10 = archiveEnhanced_df_clean.query('rating_denominator != 10').index\n",
    "\n",
    "for index in Denominator_Not10:\n",
    "    \n",
    "    # Replacing them with 10\n",
    "    archiveEnhanced_df_clean.at[index,'rating_denominator'] = 10"
   ]
  },
  {
   "cell_type": "markdown",
   "id": "397fdf79",
   "metadata": {},
   "source": [
    "#### Test"
   ]
  },
  {
   "cell_type": "code",
   "execution_count": 190,
   "id": "a5ea93b5",
   "metadata": {},
   "outputs": [
    {
     "data": {
      "text/html": [
       "<div>\n",
       "<style scoped>\n",
       "    .dataframe tbody tr th:only-of-type {\n",
       "        vertical-align: middle;\n",
       "    }\n",
       "\n",
       "    .dataframe tbody tr th {\n",
       "        vertical-align: top;\n",
       "    }\n",
       "\n",
       "    .dataframe thead th {\n",
       "        text-align: right;\n",
       "    }\n",
       "</style>\n",
       "<table border=\"1\" class=\"dataframe\">\n",
       "  <thead>\n",
       "    <tr style=\"text-align: right;\">\n",
       "      <th></th>\n",
       "      <th>tweet_id</th>\n",
       "      <th>in_reply_to_status_id</th>\n",
       "      <th>in_reply_to_user_id</th>\n",
       "      <th>tweet_date</th>\n",
       "      <th>source</th>\n",
       "      <th>text</th>\n",
       "      <th>retweeted_status_id</th>\n",
       "      <th>retweeted_status_user_id</th>\n",
       "      <th>retweeted_status_timestamp</th>\n",
       "      <th>expanded_urls</th>\n",
       "      <th>rating_numerator</th>\n",
       "      <th>rating_denominator</th>\n",
       "      <th>name</th>\n",
       "      <th>doggo</th>\n",
       "      <th>floofer</th>\n",
       "      <th>pupper</th>\n",
       "      <th>puppo</th>\n",
       "    </tr>\n",
       "  </thead>\n",
       "  <tbody>\n",
       "  </tbody>\n",
       "</table>\n",
       "</div>"
      ],
      "text/plain": [
       "Empty DataFrame\n",
       "Columns: [tweet_id, in_reply_to_status_id, in_reply_to_user_id, tweet_date, source, text, retweeted_status_id, retweeted_status_user_id, retweeted_status_timestamp, expanded_urls, rating_numerator, rating_denominator, name, doggo, floofer, pupper, puppo]\n",
       "Index: []"
      ]
     },
     "execution_count": 190,
     "metadata": {},
     "output_type": "execute_result"
    }
   ],
   "source": [
    "archiveEnhanced_df_clean.query('rating_denominator != 10')"
   ]
  },
  {
   "cell_type": "markdown",
   "id": "c112249c",
   "metadata": {},
   "source": [
    "#### #6.Define\n",
    "\n",
    "Inconstinstency in the name column."
   ]
  },
  {
   "cell_type": "markdown",
   "id": "438e514e",
   "metadata": {},
   "source": [
    "#### Code"
   ]
  },
  {
   "cell_type": "code",
   "execution_count": 191,
   "id": "917bba1c",
   "metadata": {},
   "outputs": [],
   "source": [
    "# Getting the names starting with smaller letters.\n",
    "\n",
    "los = list(archiveEnhanced_df_clean.name)\n",
    "loers = []\n",
    "\n",
    "for i in los:\n",
    "    if (i.islower()) | (i == 'None'):\n",
    "        if i in loers:\n",
    "            continue\n",
    "        loers.append(i)"
   ]
  },
  {
   "cell_type": "code",
   "execution_count": 192,
   "id": "919e673d",
   "metadata": {},
   "outputs": [],
   "source": [
    "# Replacing them.\n",
    "\n",
    "archiveEnhanced_df_clean['name'] = archiveEnhanced_df_clean['name'].apply(lambda x: np.nan if x in loers else x)"
   ]
  },
  {
   "cell_type": "markdown",
   "id": "368e8093",
   "metadata": {},
   "source": [
    "#### Test`"
   ]
  },
  {
   "cell_type": "code",
   "execution_count": 193,
   "id": "877669d5",
   "metadata": {},
   "outputs": [
    {
     "data": {
      "text/html": [
       "<div>\n",
       "<style scoped>\n",
       "    .dataframe tbody tr th:only-of-type {\n",
       "        vertical-align: middle;\n",
       "    }\n",
       "\n",
       "    .dataframe tbody tr th {\n",
       "        vertical-align: top;\n",
       "    }\n",
       "\n",
       "    .dataframe thead th {\n",
       "        text-align: right;\n",
       "    }\n",
       "</style>\n",
       "<table border=\"1\" class=\"dataframe\">\n",
       "  <thead>\n",
       "    <tr style=\"text-align: right;\">\n",
       "      <th></th>\n",
       "      <th>tweet_id</th>\n",
       "      <th>in_reply_to_status_id</th>\n",
       "      <th>in_reply_to_user_id</th>\n",
       "      <th>tweet_date</th>\n",
       "      <th>source</th>\n",
       "      <th>text</th>\n",
       "      <th>retweeted_status_id</th>\n",
       "      <th>retweeted_status_user_id</th>\n",
       "      <th>retweeted_status_timestamp</th>\n",
       "      <th>expanded_urls</th>\n",
       "      <th>rating_numerator</th>\n",
       "      <th>rating_denominator</th>\n",
       "      <th>name</th>\n",
       "      <th>doggo</th>\n",
       "      <th>floofer</th>\n",
       "      <th>pupper</th>\n",
       "      <th>puppo</th>\n",
       "    </tr>\n",
       "  </thead>\n",
       "  <tbody>\n",
       "  </tbody>\n",
       "</table>\n",
       "</div>"
      ],
      "text/plain": [
       "Empty DataFrame\n",
       "Columns: [tweet_id, in_reply_to_status_id, in_reply_to_user_id, tweet_date, source, text, retweeted_status_id, retweeted_status_user_id, retweeted_status_timestamp, expanded_urls, rating_numerator, rating_denominator, name, doggo, floofer, pupper, puppo]\n",
       "Index: []"
      ]
     },
     "execution_count": 193,
     "metadata": {},
     "output_type": "execute_result"
    }
   ],
   "source": [
    "archiveEnhanced_df_clean[archiveEnhanced_df_clean['name'] == 'None']"
   ]
  },
  {
   "cell_type": "markdown",
   "id": "2dcee037",
   "metadata": {},
   "source": [
    "####  #7. Define:\n",
    " Non-descriptive column headers in p1, p1_conf, p1_dog, p2, p2_conf, p2_dog, p3, p3_conf, and p3_dog"
   ]
  },
  {
   "cell_type": "markdown",
   "id": "9fd42f7b",
   "metadata": {},
   "source": [
    "#### Code"
   ]
  },
  {
   "cell_type": "code",
   "execution_count": 194,
   "id": "2a60beb5",
   "metadata": {},
   "outputs": [],
   "source": [
    "imagePredictions_df_clean = imagePredictions_df_clean.rename(columns = {'p1' : 'prediction1',\n",
    "                                          'p2' : 'prediction2',\n",
    "                                          'p3' : 'prediction3',\n",
    "                                          'p1_conf' : 'prediction1_confidence',\n",
    "                                          'p2_conf' : 'prediction2_confidence',\n",
    "                                          'p3_conf' : 'prediction3_confidence',\n",
    "                                          'p1_dog' : 'prediction1_dog_breed_bool',\n",
    "                                          'p2_dog' : 'prediction2_dog_breed_bool',\n",
    "                                          'p3_dog' : 'prediction3_dog_breed_bool'})"
   ]
  },
  {
   "cell_type": "markdown",
   "id": "42e98a6b",
   "metadata": {},
   "source": [
    "#### Test"
   ]
  },
  {
   "cell_type": "code",
   "execution_count": 195,
   "id": "8e3b475d",
   "metadata": {},
   "outputs": [
    {
     "data": {
      "text/plain": [
       "Index(['tweet_id', 'jpg_url', 'img_num', 'prediction1',\n",
       "       'prediction1_confidence', 'prediction1_dog_breed_bool', 'prediction2',\n",
       "       'prediction2_confidence', 'prediction2_dog_breed_bool', 'prediction3',\n",
       "       'prediction3_confidence', 'prediction3_dog_breed_bool'],\n",
       "      dtype='object')"
      ]
     },
     "execution_count": 195,
     "metadata": {},
     "output_type": "execute_result"
    }
   ],
   "source": [
    "imagePredictions_df_clean.columns"
   ]
  },
  {
   "cell_type": "markdown",
   "id": "1b375c31",
   "metadata": {},
   "source": [
    "####  #8. Define:\n",
    " id in the additional_tweets_df should be tweet_id to make it uniform"
   ]
  },
  {
   "cell_type": "markdown",
   "id": "b0c91d77",
   "metadata": {},
   "source": [
    "#### Code"
   ]
  },
  {
   "cell_type": "code",
   "execution_count": 196,
   "id": "ea1a32ba",
   "metadata": {},
   "outputs": [],
   "source": [
    "additionalTweets_df_clean = additionalTweets_df_clean.rename(columns = {'id' : 'tweet_id'})"
   ]
  },
  {
   "cell_type": "markdown",
   "id": "c6e3dd64",
   "metadata": {},
   "source": [
    "#### Test"
   ]
  },
  {
   "cell_type": "code",
   "execution_count": 197,
   "id": "b5b31926",
   "metadata": {},
   "outputs": [
    {
     "data": {
      "text/plain": [
       "Index(['tweet_id', 'retweet_count', 'favorite_count'], dtype='object')"
      ]
     },
     "execution_count": 197,
     "metadata": {},
     "output_type": "execute_result"
    }
   ],
   "source": [
    "additionalTweets_df_clean.columns"
   ]
  },
  {
   "cell_type": "markdown",
   "id": "dc64c81a",
   "metadata": {},
   "source": [
    "####  #9. Define:\n",
    " tweet_id should have string datatype"
   ]
  },
  {
   "cell_type": "markdown",
   "id": "f4fede90",
   "metadata": {},
   "source": [
    "#### Code"
   ]
  },
  {
   "cell_type": "code",
   "execution_count": 198,
   "id": "b589e82a",
   "metadata": {},
   "outputs": [],
   "source": [
    "additionalTweets_df_clean['tweet_id'] = additionalTweets_df_clean['tweet_id'].astype(str)"
   ]
  },
  {
   "cell_type": "markdown",
   "id": "41f550be",
   "metadata": {},
   "source": [
    "#### Test"
   ]
  },
  {
   "cell_type": "code",
   "execution_count": 199,
   "id": "84a8e7c3",
   "metadata": {},
   "outputs": [
    {
     "data": {
      "text/plain": [
       "dtype('O')"
      ]
     },
     "execution_count": 199,
     "metadata": {},
     "output_type": "execute_result"
    }
   ],
   "source": [
    "additionalTweets_df_clean['tweet_id'].dtype"
   ]
  },
  {
   "cell_type": "markdown",
   "id": "2411605a",
   "metadata": {},
   "source": [
    "## Cleaning Tidiness issues"
   ]
  },
  {
   "cell_type": "markdown",
   "id": "58ce4a52",
   "metadata": {},
   "source": [
    "#### #1. Define:\n",
    " One variable has been split into 4 columns(doggo, floofer,puppo, pupper).These columns should be merged to a single column named dog_stage"
   ]
  },
  {
   "cell_type": "markdown",
   "id": "318fe701",
   "metadata": {},
   "source": [
    "#### code"
   ]
  },
  {
   "cell_type": "code",
   "execution_count": 200,
   "id": "d78731e0",
   "metadata": {},
   "outputs": [],
   "source": [
    "# We shall reextract the values from text column since they were originally extracted there.\n",
    "\n",
    "archiveEnhanced_df_clean['dog_stage'] = archiveEnhanced_df_clean['text'].str.extract('(doggo|floofer|pupper|puppo)')"
   ]
  },
  {
   "cell_type": "markdown",
   "id": "ec151233",
   "metadata": {},
   "source": [
    "#### Test"
   ]
  },
  {
   "cell_type": "code",
   "execution_count": 201,
   "id": "292b19ec",
   "metadata": {},
   "outputs": [
    {
     "data": {
      "text/plain": [
       "pupper     240\n",
       "doggo      80 \n",
       "puppo      29 \n",
       "floofer    4  \n",
       "Name: dog_stage, dtype: int64"
      ]
     },
     "execution_count": 201,
     "metadata": {},
     "output_type": "execute_result"
    }
   ],
   "source": [
    "archiveEnhanced_df_clean['dog_stage'].value_counts()"
   ]
  },
  {
   "cell_type": "markdown",
   "id": "4df0f0bf",
   "metadata": {},
   "source": [
    "#### #2. Define:\n",
    "Dropping columns with so many missing values."
   ]
  },
  {
   "cell_type": "code",
   "execution_count": 202,
   "id": "da10d313",
   "metadata": {},
   "outputs": [],
   "source": [
    "archiveEnhanced_df_clean.drop(columns = ['in_reply_to_status_id', 'in_reply_to_user_id', 'retweeted_status_id', 'retweeted_status_user_id', 'retweeted_status_timestamp', 'doggo', 'floofer', 'pupper', 'puppo'], inplace = True)"
   ]
  },
  {
   "cell_type": "markdown",
   "id": "fd5cd6ce",
   "metadata": {},
   "source": [
    "### Test"
   ]
  },
  {
   "cell_type": "code",
   "execution_count": 203,
   "id": "11c0acc6",
   "metadata": {},
   "outputs": [
    {
     "data": {
      "text/plain": [
       "Index(['tweet_id', 'tweet_date', 'source', 'text', 'expanded_urls',\n",
       "       'rating_numerator', 'rating_denominator', 'name', 'dog_stage'],\n",
       "      dtype='object')"
      ]
     },
     "execution_count": 203,
     "metadata": {},
     "output_type": "execute_result"
    }
   ],
   "source": [
    "archiveEnhanced_df_clean.columns"
   ]
  },
  {
   "cell_type": "markdown",
   "id": "e01a40b4",
   "metadata": {},
   "source": [
    "#### #3. Define:\n",
    "Create a new column called ratings based on rating_numerator and rating_denominator and delete the rating_numerator and rating_denominator"
   ]
  },
  {
   "cell_type": "markdown",
   "id": "cb24710b",
   "metadata": {},
   "source": [
    "#### Code"
   ]
  },
  {
   "cell_type": "code",
   "execution_count": 204,
   "id": "9099fc5d",
   "metadata": {},
   "outputs": [],
   "source": [
    "archiveEnhanced_df_clean['ratings'] = (archiveEnhanced_df_clean['rating_numerator'] / archiveEnhanced_df_clean['rating_denominator'])"
   ]
  },
  {
   "cell_type": "code",
   "execution_count": 205,
   "id": "b95b6b0f",
   "metadata": {},
   "outputs": [
    {
     "data": {
      "text/html": [
       "<div>\n",
       "<style scoped>\n",
       "    .dataframe tbody tr th:only-of-type {\n",
       "        vertical-align: middle;\n",
       "    }\n",
       "\n",
       "    .dataframe tbody tr th {\n",
       "        vertical-align: top;\n",
       "    }\n",
       "\n",
       "    .dataframe thead th {\n",
       "        text-align: right;\n",
       "    }\n",
       "</style>\n",
       "<table border=\"1\" class=\"dataframe\">\n",
       "  <thead>\n",
       "    <tr style=\"text-align: right;\">\n",
       "      <th></th>\n",
       "      <th>tweet_id</th>\n",
       "      <th>tweet_date</th>\n",
       "      <th>source</th>\n",
       "      <th>text</th>\n",
       "      <th>expanded_urls</th>\n",
       "      <th>rating_numerator</th>\n",
       "      <th>rating_denominator</th>\n",
       "      <th>name</th>\n",
       "      <th>dog_stage</th>\n",
       "      <th>ratings</th>\n",
       "    </tr>\n",
       "  </thead>\n",
       "  <tbody>\n",
       "    <tr>\n",
       "      <th>0</th>\n",
       "      <td>892420643555336193</td>\n",
       "      <td>2017-08-01 16:23:56 +0000</td>\n",
       "      <td>Twitter for iPhone</td>\n",
       "      <td>This is Phineas. He's a mystical boy. Only ever appears in the hole of a donut. 13/10 https://t.co/MgUWQ76dJU</td>\n",
       "      <td>https://twitter.com/dog_rates/status/892420643555336193/photo/1</td>\n",
       "      <td>13</td>\n",
       "      <td>10</td>\n",
       "      <td>Phineas</td>\n",
       "      <td>NaN</td>\n",
       "      <td>1.3</td>\n",
       "    </tr>\n",
       "    <tr>\n",
       "      <th>1</th>\n",
       "      <td>892177421306343426</td>\n",
       "      <td>2017-08-01 00:17:27 +0000</td>\n",
       "      <td>Twitter for iPhone</td>\n",
       "      <td>This is Tilly. She's just checking pup on you. Hopes you're doing ok. If not, she's available for pats, snugs, boops, the whole bit. 13/10 https://t.co/0Xxu71qeIV</td>\n",
       "      <td>https://twitter.com/dog_rates/status/892177421306343426/photo/1</td>\n",
       "      <td>13</td>\n",
       "      <td>10</td>\n",
       "      <td>Tilly</td>\n",
       "      <td>NaN</td>\n",
       "      <td>1.3</td>\n",
       "    </tr>\n",
       "    <tr>\n",
       "      <th>2</th>\n",
       "      <td>891815181378084864</td>\n",
       "      <td>2017-07-31 00:18:03 +0000</td>\n",
       "      <td>Twitter for iPhone</td>\n",
       "      <td>This is Archie. He is a rare Norwegian Pouncing Corgo. Lives in the tall grass. You never know when one may strike. 12/10 https://t.co/wUnZnhtVJB</td>\n",
       "      <td>https://twitter.com/dog_rates/status/891815181378084864/photo/1</td>\n",
       "      <td>12</td>\n",
       "      <td>10</td>\n",
       "      <td>Archie</td>\n",
       "      <td>NaN</td>\n",
       "      <td>1.2</td>\n",
       "    </tr>\n",
       "    <tr>\n",
       "      <th>3</th>\n",
       "      <td>891689557279858688</td>\n",
       "      <td>2017-07-30 15:58:51 +0000</td>\n",
       "      <td>Twitter for iPhone</td>\n",
       "      <td>This is Darla. She commenced a snooze mid meal. 13/10 happens to the best of us https://t.co/tD36da7qLQ</td>\n",
       "      <td>https://twitter.com/dog_rates/status/891689557279858688/photo/1</td>\n",
       "      <td>13</td>\n",
       "      <td>10</td>\n",
       "      <td>Darla</td>\n",
       "      <td>NaN</td>\n",
       "      <td>1.3</td>\n",
       "    </tr>\n",
       "    <tr>\n",
       "      <th>4</th>\n",
       "      <td>891327558926688256</td>\n",
       "      <td>2017-07-29 16:00:24 +0000</td>\n",
       "      <td>Twitter for iPhone</td>\n",
       "      <td>This is Franklin. He would like you to stop calling him \"cute.\" He is a very fierce shark and should be respected as such. 12/10 #BarkWeek https://t.co/AtUZn91f7f</td>\n",
       "      <td>https://twitter.com/dog_rates/status/891327558926688256/photo/1,https://twitter.com/dog_rates/status/891327558926688256/photo/1</td>\n",
       "      <td>12</td>\n",
       "      <td>10</td>\n",
       "      <td>Franklin</td>\n",
       "      <td>NaN</td>\n",
       "      <td>1.2</td>\n",
       "    </tr>\n",
       "    <tr>\n",
       "      <th>...</th>\n",
       "      <td>...</td>\n",
       "      <td>...</td>\n",
       "      <td>...</td>\n",
       "      <td>...</td>\n",
       "      <td>...</td>\n",
       "      <td>...</td>\n",
       "      <td>...</td>\n",
       "      <td>...</td>\n",
       "      <td>...</td>\n",
       "      <td>...</td>\n",
       "    </tr>\n",
       "    <tr>\n",
       "      <th>2351</th>\n",
       "      <td>666049248165822465</td>\n",
       "      <td>2015-11-16 00:24:50 +0000</td>\n",
       "      <td>Twitter for iPhone</td>\n",
       "      <td>Here we have a 1949 1st generation vulpix. Enjoys sweat tea and Fox News. Cannot be phased. 5/10 https://t.co/4B7cOc1EDq</td>\n",
       "      <td>https://twitter.com/dog_rates/status/666049248165822465/photo/1</td>\n",
       "      <td>5</td>\n",
       "      <td>10</td>\n",
       "      <td>NaN</td>\n",
       "      <td>NaN</td>\n",
       "      <td>0.5</td>\n",
       "    </tr>\n",
       "    <tr>\n",
       "      <th>2352</th>\n",
       "      <td>666044226329800704</td>\n",
       "      <td>2015-11-16 00:04:52 +0000</td>\n",
       "      <td>Twitter for iPhone</td>\n",
       "      <td>This is a purebred Piers Morgan. Loves to Netflix and chill. Always looks like he forgot to unplug the iron. 6/10 https://t.co/DWnyCjf2mx</td>\n",
       "      <td>https://twitter.com/dog_rates/status/666044226329800704/photo/1</td>\n",
       "      <td>6</td>\n",
       "      <td>10</td>\n",
       "      <td>NaN</td>\n",
       "      <td>NaN</td>\n",
       "      <td>0.6</td>\n",
       "    </tr>\n",
       "    <tr>\n",
       "      <th>2353</th>\n",
       "      <td>666033412701032449</td>\n",
       "      <td>2015-11-15 23:21:54 +0000</td>\n",
       "      <td>Twitter for iPhone</td>\n",
       "      <td>Here is a very happy pup. Big fan of well-maintained decks. Just look at that tongue. 9/10 would cuddle af https://t.co/y671yMhoiR</td>\n",
       "      <td>https://twitter.com/dog_rates/status/666033412701032449/photo/1</td>\n",
       "      <td>9</td>\n",
       "      <td>10</td>\n",
       "      <td>NaN</td>\n",
       "      <td>NaN</td>\n",
       "      <td>0.9</td>\n",
       "    </tr>\n",
       "    <tr>\n",
       "      <th>2354</th>\n",
       "      <td>666029285002620928</td>\n",
       "      <td>2015-11-15 23:05:30 +0000</td>\n",
       "      <td>Twitter for iPhone</td>\n",
       "      <td>This is a western brown Mitsubishi terrier. Upset about leaf. Actually 2 dogs here. 7/10 would walk the shit out of https://t.co/r7mOb2m0UI</td>\n",
       "      <td>https://twitter.com/dog_rates/status/666029285002620928/photo/1</td>\n",
       "      <td>7</td>\n",
       "      <td>10</td>\n",
       "      <td>NaN</td>\n",
       "      <td>NaN</td>\n",
       "      <td>0.7</td>\n",
       "    </tr>\n",
       "    <tr>\n",
       "      <th>2355</th>\n",
       "      <td>666020888022790149</td>\n",
       "      <td>2015-11-15 22:32:08 +0000</td>\n",
       "      <td>Twitter for iPhone</td>\n",
       "      <td>Here we have a Japanese Irish Setter. Lost eye in Vietnam (?). Big fan of relaxing on stair. 8/10 would pet https://t.co/BLDqew2Ijj</td>\n",
       "      <td>https://twitter.com/dog_rates/status/666020888022790149/photo/1</td>\n",
       "      <td>8</td>\n",
       "      <td>10</td>\n",
       "      <td>NaN</td>\n",
       "      <td>NaN</td>\n",
       "      <td>0.8</td>\n",
       "    </tr>\n",
       "  </tbody>\n",
       "</table>\n",
       "<p>2097 rows × 10 columns</p>\n",
       "</div>"
      ],
      "text/plain": [
       "                tweet_id                 tweet_date              source  \\\n",
       "0     892420643555336193  2017-08-01 16:23:56 +0000  Twitter for iPhone   \n",
       "1     892177421306343426  2017-08-01 00:17:27 +0000  Twitter for iPhone   \n",
       "2     891815181378084864  2017-07-31 00:18:03 +0000  Twitter for iPhone   \n",
       "3     891689557279858688  2017-07-30 15:58:51 +0000  Twitter for iPhone   \n",
       "4     891327558926688256  2017-07-29 16:00:24 +0000  Twitter for iPhone   \n",
       "...                  ...                        ...                 ...   \n",
       "2351  666049248165822465  2015-11-16 00:24:50 +0000  Twitter for iPhone   \n",
       "2352  666044226329800704  2015-11-16 00:04:52 +0000  Twitter for iPhone   \n",
       "2353  666033412701032449  2015-11-15 23:21:54 +0000  Twitter for iPhone   \n",
       "2354  666029285002620928  2015-11-15 23:05:30 +0000  Twitter for iPhone   \n",
       "2355  666020888022790149  2015-11-15 22:32:08 +0000  Twitter for iPhone   \n",
       "\n",
       "                                                                                                                                                                    text  \\\n",
       "0     This is Phineas. He's a mystical boy. Only ever appears in the hole of a donut. 13/10 https://t.co/MgUWQ76dJU                                                        \n",
       "1     This is Tilly. She's just checking pup on you. Hopes you're doing ok. If not, she's available for pats, snugs, boops, the whole bit. 13/10 https://t.co/0Xxu71qeIV   \n",
       "2     This is Archie. He is a rare Norwegian Pouncing Corgo. Lives in the tall grass. You never know when one may strike. 12/10 https://t.co/wUnZnhtVJB                    \n",
       "3     This is Darla. She commenced a snooze mid meal. 13/10 happens to the best of us https://t.co/tD36da7qLQ                                                              \n",
       "4     This is Franklin. He would like you to stop calling him \"cute.\" He is a very fierce shark and should be respected as such. 12/10 #BarkWeek https://t.co/AtUZn91f7f   \n",
       "...                                                                                                                                                                  ...   \n",
       "2351  Here we have a 1949 1st generation vulpix. Enjoys sweat tea and Fox News. Cannot be phased. 5/10 https://t.co/4B7cOc1EDq                                             \n",
       "2352  This is a purebred Piers Morgan. Loves to Netflix and chill. Always looks like he forgot to unplug the iron. 6/10 https://t.co/DWnyCjf2mx                            \n",
       "2353  Here is a very happy pup. Big fan of well-maintained decks. Just look at that tongue. 9/10 would cuddle af https://t.co/y671yMhoiR                                   \n",
       "2354  This is a western brown Mitsubishi terrier. Upset about leaf. Actually 2 dogs here. 7/10 would walk the shit out of https://t.co/r7mOb2m0UI                          \n",
       "2355  Here we have a Japanese Irish Setter. Lost eye in Vietnam (?). Big fan of relaxing on stair. 8/10 would pet https://t.co/BLDqew2Ijj                                  \n",
       "\n",
       "                                                                                                                        expanded_urls  \\\n",
       "0     https://twitter.com/dog_rates/status/892420643555336193/photo/1                                                                   \n",
       "1     https://twitter.com/dog_rates/status/892177421306343426/photo/1                                                                   \n",
       "2     https://twitter.com/dog_rates/status/891815181378084864/photo/1                                                                   \n",
       "3     https://twitter.com/dog_rates/status/891689557279858688/photo/1                                                                   \n",
       "4     https://twitter.com/dog_rates/status/891327558926688256/photo/1,https://twitter.com/dog_rates/status/891327558926688256/photo/1   \n",
       "...                                                                                                                               ...   \n",
       "2351  https://twitter.com/dog_rates/status/666049248165822465/photo/1                                                                   \n",
       "2352  https://twitter.com/dog_rates/status/666044226329800704/photo/1                                                                   \n",
       "2353  https://twitter.com/dog_rates/status/666033412701032449/photo/1                                                                   \n",
       "2354  https://twitter.com/dog_rates/status/666029285002620928/photo/1                                                                   \n",
       "2355  https://twitter.com/dog_rates/status/666020888022790149/photo/1                                                                   \n",
       "\n",
       "      rating_numerator  rating_denominator      name dog_stage  ratings  \n",
       "0     13                10                  Phineas   NaN       1.3      \n",
       "1     13                10                  Tilly     NaN       1.3      \n",
       "2     12                10                  Archie    NaN       1.2      \n",
       "3     13                10                  Darla     NaN       1.3      \n",
       "4     12                10                  Franklin  NaN       1.2      \n",
       "...   ..                ..                       ...  ...       ...      \n",
       "2351  5                 10                  NaN       NaN       0.5      \n",
       "2352  6                 10                  NaN       NaN       0.6      \n",
       "2353  9                 10                  NaN       NaN       0.9      \n",
       "2354  7                 10                  NaN       NaN       0.7      \n",
       "2355  8                 10                  NaN       NaN       0.8      \n",
       "\n",
       "[2097 rows x 10 columns]"
      ]
     },
     "execution_count": 205,
     "metadata": {},
     "output_type": "execute_result"
    }
   ],
   "source": [
    "archiveEnhanced_df_clean"
   ]
  },
  {
   "cell_type": "markdown",
   "id": "e1ef4f72",
   "metadata": {},
   "source": [
    "#### Test"
   ]
  },
  {
   "cell_type": "markdown",
   "id": "37339d3e",
   "metadata": {},
   "source": [
    "#### #4. Define:\n",
    " 3 datasets have information of the same thing(dogs). The 3 datasets should be merged."
   ]
  },
  {
   "cell_type": "markdown",
   "id": "566611a0",
   "metadata": {},
   "source": [
    "#### Code"
   ]
  },
  {
   "cell_type": "code",
   "execution_count": 206,
   "id": "a771c39e",
   "metadata": {},
   "outputs": [],
   "source": [
    "# define a function to merge the datasets\n",
    "\n",
    "from functools import reduce\n",
    "\n",
    "def merge_datasets(data, col):\n",
    "    \n",
    "    merged_datasets = reduce(lambda  left,right: pd.merge(left,right,on= col, how='outer'), data)\n",
    "    return merged_datasets"
   ]
  },
  {
   "cell_type": "code",
   "execution_count": 207,
   "id": "da765714",
   "metadata": {},
   "outputs": [],
   "source": [
    "dataframes = [archiveEnhanced_df_clean, imagePredictions_df_clean, additionalTweets_df_clean]\n",
    "\n",
    "WeRateDogs_master_df = merge_datasets(dataframes, 'tweet_id')"
   ]
  },
  {
   "cell_type": "markdown",
   "id": "a93b2b4f",
   "metadata": {},
   "source": [
    "#### Test"
   ]
  },
  {
   "cell_type": "code",
   "execution_count": 208,
   "id": "85e86cf2",
   "metadata": {},
   "outputs": [
    {
     "data": {
      "text/plain": [
       "(2345, 23)"
      ]
     },
     "execution_count": 208,
     "metadata": {},
     "output_type": "execute_result"
    }
   ],
   "source": [
    "WeRateDogs_master_df.shape"
   ]
  },
  {
   "cell_type": "code",
   "execution_count": 211,
   "id": "7f983863",
   "metadata": {},
   "outputs": [
    {
     "data": {
      "text/html": [
       "<div>\n",
       "<style scoped>\n",
       "    .dataframe tbody tr th:only-of-type {\n",
       "        vertical-align: middle;\n",
       "    }\n",
       "\n",
       "    .dataframe tbody tr th {\n",
       "        vertical-align: top;\n",
       "    }\n",
       "\n",
       "    .dataframe thead th {\n",
       "        text-align: right;\n",
       "    }\n",
       "</style>\n",
       "<table border=\"1\" class=\"dataframe\">\n",
       "  <thead>\n",
       "    <tr style=\"text-align: right;\">\n",
       "      <th></th>\n",
       "      <th>tweet_id</th>\n",
       "      <th>tweet_date</th>\n",
       "      <th>source</th>\n",
       "      <th>text</th>\n",
       "      <th>expanded_urls</th>\n",
       "      <th>rating_numerator</th>\n",
       "      <th>rating_denominator</th>\n",
       "      <th>name</th>\n",
       "      <th>dog_stage</th>\n",
       "      <th>ratings</th>\n",
       "      <th>...</th>\n",
       "      <th>prediction1_confidence</th>\n",
       "      <th>prediction1_dog_breed_bool</th>\n",
       "      <th>prediction2</th>\n",
       "      <th>prediction2_confidence</th>\n",
       "      <th>prediction2_dog_breed_bool</th>\n",
       "      <th>prediction3</th>\n",
       "      <th>prediction3_confidence</th>\n",
       "      <th>prediction3_dog_breed_bool</th>\n",
       "      <th>retweet_count</th>\n",
       "      <th>favorite_count</th>\n",
       "    </tr>\n",
       "  </thead>\n",
       "  <tbody>\n",
       "    <tr>\n",
       "      <th>0</th>\n",
       "      <td>892420643555336193</td>\n",
       "      <td>2017-08-01 16:23:56 +0000</td>\n",
       "      <td>Twitter for iPhone</td>\n",
       "      <td>This is Phineas. He's a mystical boy. Only ever appears in the hole of a donut. 13/10 https://t.co/MgUWQ76dJU</td>\n",
       "      <td>https://twitter.com/dog_rates/status/892420643555336193/photo/1</td>\n",
       "      <td>13.0</td>\n",
       "      <td>10.0</td>\n",
       "      <td>Phineas</td>\n",
       "      <td>NaN</td>\n",
       "      <td>1.3</td>\n",
       "      <td>...</td>\n",
       "      <td>0.097049</td>\n",
       "      <td>False</td>\n",
       "      <td>bagel</td>\n",
       "      <td>0.085851</td>\n",
       "      <td>False</td>\n",
       "      <td>banana</td>\n",
       "      <td>0.076110</td>\n",
       "      <td>False</td>\n",
       "      <td>7019.0</td>\n",
       "      <td>33843.0</td>\n",
       "    </tr>\n",
       "    <tr>\n",
       "      <th>1</th>\n",
       "      <td>892177421306343426</td>\n",
       "      <td>2017-08-01 00:17:27 +0000</td>\n",
       "      <td>Twitter for iPhone</td>\n",
       "      <td>This is Tilly. She's just checking pup on you. Hopes you're doing ok. If not, she's available for pats, snugs, boops, the whole bit. 13/10 https://t.co/0Xxu71qeIV</td>\n",
       "      <td>https://twitter.com/dog_rates/status/892177421306343426/photo/1</td>\n",
       "      <td>13.0</td>\n",
       "      <td>10.0</td>\n",
       "      <td>Tilly</td>\n",
       "      <td>NaN</td>\n",
       "      <td>1.3</td>\n",
       "      <td>...</td>\n",
       "      <td>0.323581</td>\n",
       "      <td>True</td>\n",
       "      <td>Pekinese</td>\n",
       "      <td>0.090647</td>\n",
       "      <td>True</td>\n",
       "      <td>papillon</td>\n",
       "      <td>0.068957</td>\n",
       "      <td>True</td>\n",
       "      <td>5303.0</td>\n",
       "      <td>29360.0</td>\n",
       "    </tr>\n",
       "    <tr>\n",
       "      <th>2</th>\n",
       "      <td>891815181378084864</td>\n",
       "      <td>2017-07-31 00:18:03 +0000</td>\n",
       "      <td>Twitter for iPhone</td>\n",
       "      <td>This is Archie. He is a rare Norwegian Pouncing Corgo. Lives in the tall grass. You never know when one may strike. 12/10 https://t.co/wUnZnhtVJB</td>\n",
       "      <td>https://twitter.com/dog_rates/status/891815181378084864/photo/1</td>\n",
       "      <td>12.0</td>\n",
       "      <td>10.0</td>\n",
       "      <td>Archie</td>\n",
       "      <td>NaN</td>\n",
       "      <td>1.2</td>\n",
       "      <td>...</td>\n",
       "      <td>0.716012</td>\n",
       "      <td>True</td>\n",
       "      <td>malamute</td>\n",
       "      <td>0.078253</td>\n",
       "      <td>True</td>\n",
       "      <td>kelpie</td>\n",
       "      <td>0.031379</td>\n",
       "      <td>True</td>\n",
       "      <td>3486.0</td>\n",
       "      <td>22077.0</td>\n",
       "    </tr>\n",
       "    <tr>\n",
       "      <th>3</th>\n",
       "      <td>891689557279858688</td>\n",
       "      <td>2017-07-30 15:58:51 +0000</td>\n",
       "      <td>Twitter for iPhone</td>\n",
       "      <td>This is Darla. She commenced a snooze mid meal. 13/10 happens to the best of us https://t.co/tD36da7qLQ</td>\n",
       "      <td>https://twitter.com/dog_rates/status/891689557279858688/photo/1</td>\n",
       "      <td>13.0</td>\n",
       "      <td>10.0</td>\n",
       "      <td>Darla</td>\n",
       "      <td>NaN</td>\n",
       "      <td>1.3</td>\n",
       "      <td>...</td>\n",
       "      <td>0.170278</td>\n",
       "      <td>False</td>\n",
       "      <td>Labrador_retriever</td>\n",
       "      <td>0.168086</td>\n",
       "      <td>True</td>\n",
       "      <td>spatula</td>\n",
       "      <td>0.040836</td>\n",
       "      <td>False</td>\n",
       "      <td>7232.0</td>\n",
       "      <td>36974.0</td>\n",
       "    </tr>\n",
       "    <tr>\n",
       "      <th>4</th>\n",
       "      <td>891327558926688256</td>\n",
       "      <td>2017-07-29 16:00:24 +0000</td>\n",
       "      <td>Twitter for iPhone</td>\n",
       "      <td>This is Franklin. He would like you to stop calling him \"cute.\" He is a very fierce shark and should be respected as such. 12/10 #BarkWeek https://t.co/AtUZn91f7f</td>\n",
       "      <td>https://twitter.com/dog_rates/status/891327558926688256/photo/1,https://twitter.com/dog_rates/status/891327558926688256/photo/1</td>\n",
       "      <td>12.0</td>\n",
       "      <td>10.0</td>\n",
       "      <td>Franklin</td>\n",
       "      <td>NaN</td>\n",
       "      <td>1.2</td>\n",
       "      <td>...</td>\n",
       "      <td>0.555712</td>\n",
       "      <td>True</td>\n",
       "      <td>English_springer</td>\n",
       "      <td>0.225770</td>\n",
       "      <td>True</td>\n",
       "      <td>German_short-haired_pointer</td>\n",
       "      <td>0.175219</td>\n",
       "      <td>True</td>\n",
       "      <td>7772.0</td>\n",
       "      <td>35344.0</td>\n",
       "    </tr>\n",
       "    <tr>\n",
       "      <th>...</th>\n",
       "      <td>...</td>\n",
       "      <td>...</td>\n",
       "      <td>...</td>\n",
       "      <td>...</td>\n",
       "      <td>...</td>\n",
       "      <td>...</td>\n",
       "      <td>...</td>\n",
       "      <td>...</td>\n",
       "      <td>...</td>\n",
       "      <td>...</td>\n",
       "      <td>...</td>\n",
       "      <td>...</td>\n",
       "      <td>...</td>\n",
       "      <td>...</td>\n",
       "      <td>...</td>\n",
       "      <td>...</td>\n",
       "      <td>...</td>\n",
       "      <td>...</td>\n",
       "      <td>...</td>\n",
       "      <td>...</td>\n",
       "      <td>...</td>\n",
       "    </tr>\n",
       "    <tr>\n",
       "      <th>2340</th>\n",
       "      <td>673716320723169284</td>\n",
       "      <td>NaN</td>\n",
       "      <td>NaN</td>\n",
       "      <td>NaN</td>\n",
       "      <td>NaN</td>\n",
       "      <td>NaN</td>\n",
       "      <td>NaN</td>\n",
       "      <td>NaN</td>\n",
       "      <td>NaN</td>\n",
       "      <td>NaN</td>\n",
       "      <td>...</td>\n",
       "      <td>NaN</td>\n",
       "      <td>NaN</td>\n",
       "      <td>NaN</td>\n",
       "      <td>NaN</td>\n",
       "      <td>NaN</td>\n",
       "      <td>NaN</td>\n",
       "      <td>NaN</td>\n",
       "      <td>NaN</td>\n",
       "      <td>670.0</td>\n",
       "      <td>2790.0</td>\n",
       "    </tr>\n",
       "    <tr>\n",
       "      <th>2341</th>\n",
       "      <td>671550332464455680</td>\n",
       "      <td>NaN</td>\n",
       "      <td>NaN</td>\n",
       "      <td>NaN</td>\n",
       "      <td>NaN</td>\n",
       "      <td>NaN</td>\n",
       "      <td>NaN</td>\n",
       "      <td>NaN</td>\n",
       "      <td>NaN</td>\n",
       "      <td>NaN</td>\n",
       "      <td>...</td>\n",
       "      <td>NaN</td>\n",
       "      <td>NaN</td>\n",
       "      <td>NaN</td>\n",
       "      <td>NaN</td>\n",
       "      <td>NaN</td>\n",
       "      <td>NaN</td>\n",
       "      <td>NaN</td>\n",
       "      <td>NaN</td>\n",
       "      <td>183.0</td>\n",
       "      <td>811.0</td>\n",
       "    </tr>\n",
       "    <tr>\n",
       "      <th>2342</th>\n",
       "      <td>669684865554620416</td>\n",
       "      <td>NaN</td>\n",
       "      <td>NaN</td>\n",
       "      <td>NaN</td>\n",
       "      <td>NaN</td>\n",
       "      <td>NaN</td>\n",
       "      <td>NaN</td>\n",
       "      <td>NaN</td>\n",
       "      <td>NaN</td>\n",
       "      <td>NaN</td>\n",
       "      <td>...</td>\n",
       "      <td>NaN</td>\n",
       "      <td>NaN</td>\n",
       "      <td>NaN</td>\n",
       "      <td>NaN</td>\n",
       "      <td>NaN</td>\n",
       "      <td>NaN</td>\n",
       "      <td>NaN</td>\n",
       "      <td>NaN</td>\n",
       "      <td>75.0</td>\n",
       "      <td>449.0</td>\n",
       "    </tr>\n",
       "    <tr>\n",
       "      <th>2343</th>\n",
       "      <td>668967877119254528</td>\n",
       "      <td>NaN</td>\n",
       "      <td>NaN</td>\n",
       "      <td>NaN</td>\n",
       "      <td>NaN</td>\n",
       "      <td>NaN</td>\n",
       "      <td>NaN</td>\n",
       "      <td>NaN</td>\n",
       "      <td>NaN</td>\n",
       "      <td>NaN</td>\n",
       "      <td>...</td>\n",
       "      <td>NaN</td>\n",
       "      <td>NaN</td>\n",
       "      <td>NaN</td>\n",
       "      <td>NaN</td>\n",
       "      <td>NaN</td>\n",
       "      <td>NaN</td>\n",
       "      <td>NaN</td>\n",
       "      <td>NaN</td>\n",
       "      <td>18.0</td>\n",
       "      <td>127.0</td>\n",
       "    </tr>\n",
       "    <tr>\n",
       "      <th>2344</th>\n",
       "      <td>667070482143944705</td>\n",
       "      <td>NaN</td>\n",
       "      <td>NaN</td>\n",
       "      <td>NaN</td>\n",
       "      <td>NaN</td>\n",
       "      <td>NaN</td>\n",
       "      <td>NaN</td>\n",
       "      <td>NaN</td>\n",
       "      <td>NaN</td>\n",
       "      <td>NaN</td>\n",
       "      <td>...</td>\n",
       "      <td>NaN</td>\n",
       "      <td>NaN</td>\n",
       "      <td>NaN</td>\n",
       "      <td>NaN</td>\n",
       "      <td>NaN</td>\n",
       "      <td>NaN</td>\n",
       "      <td>NaN</td>\n",
       "      <td>NaN</td>\n",
       "      <td>13.0</td>\n",
       "      <td>72.0</td>\n",
       "    </tr>\n",
       "  </tbody>\n",
       "</table>\n",
       "<p>2345 rows × 23 columns</p>\n",
       "</div>"
      ],
      "text/plain": [
       "                tweet_id                 tweet_date              source  \\\n",
       "0     892420643555336193  2017-08-01 16:23:56 +0000  Twitter for iPhone   \n",
       "1     892177421306343426  2017-08-01 00:17:27 +0000  Twitter for iPhone   \n",
       "2     891815181378084864  2017-07-31 00:18:03 +0000  Twitter for iPhone   \n",
       "3     891689557279858688  2017-07-30 15:58:51 +0000  Twitter for iPhone   \n",
       "4     891327558926688256  2017-07-29 16:00:24 +0000  Twitter for iPhone   \n",
       "...                  ...                        ...                 ...   \n",
       "2340  673716320723169284  NaN                        NaN                  \n",
       "2341  671550332464455680  NaN                        NaN                  \n",
       "2342  669684865554620416  NaN                        NaN                  \n",
       "2343  668967877119254528  NaN                        NaN                  \n",
       "2344  667070482143944705  NaN                        NaN                  \n",
       "\n",
       "                                                                                                                                                                    text  \\\n",
       "0     This is Phineas. He's a mystical boy. Only ever appears in the hole of a donut. 13/10 https://t.co/MgUWQ76dJU                                                        \n",
       "1     This is Tilly. She's just checking pup on you. Hopes you're doing ok. If not, she's available for pats, snugs, boops, the whole bit. 13/10 https://t.co/0Xxu71qeIV   \n",
       "2     This is Archie. He is a rare Norwegian Pouncing Corgo. Lives in the tall grass. You never know when one may strike. 12/10 https://t.co/wUnZnhtVJB                    \n",
       "3     This is Darla. She commenced a snooze mid meal. 13/10 happens to the best of us https://t.co/tD36da7qLQ                                                              \n",
       "4     This is Franklin. He would like you to stop calling him \"cute.\" He is a very fierce shark and should be respected as such. 12/10 #BarkWeek https://t.co/AtUZn91f7f   \n",
       "...                                                                                                                                                                  ...   \n",
       "2340  NaN                                                                                                                                                                  \n",
       "2341  NaN                                                                                                                                                                  \n",
       "2342  NaN                                                                                                                                                                  \n",
       "2343  NaN                                                                                                                                                                  \n",
       "2344  NaN                                                                                                                                                                  \n",
       "\n",
       "                                                                                                                        expanded_urls  \\\n",
       "0     https://twitter.com/dog_rates/status/892420643555336193/photo/1                                                                   \n",
       "1     https://twitter.com/dog_rates/status/892177421306343426/photo/1                                                                   \n",
       "2     https://twitter.com/dog_rates/status/891815181378084864/photo/1                                                                   \n",
       "3     https://twitter.com/dog_rates/status/891689557279858688/photo/1                                                                   \n",
       "4     https://twitter.com/dog_rates/status/891327558926688256/photo/1,https://twitter.com/dog_rates/status/891327558926688256/photo/1   \n",
       "...                                                                                                                               ...   \n",
       "2340  NaN                                                                                                                               \n",
       "2341  NaN                                                                                                                               \n",
       "2342  NaN                                                                                                                               \n",
       "2343  NaN                                                                                                                               \n",
       "2344  NaN                                                                                                                               \n",
       "\n",
       "      rating_numerator  rating_denominator      name dog_stage  ratings  ...  \\\n",
       "0     13.0              10.0                Phineas   NaN       1.3      ...   \n",
       "1     13.0              10.0                Tilly     NaN       1.3      ...   \n",
       "2     12.0              10.0                Archie    NaN       1.2      ...   \n",
       "3     13.0              10.0                Darla     NaN       1.3      ...   \n",
       "4     12.0              10.0                Franklin  NaN       1.2      ...   \n",
       "...    ...               ...                     ...  ...       ...      ...   \n",
       "2340 NaN               NaN                  NaN       NaN      NaN       ...   \n",
       "2341 NaN               NaN                  NaN       NaN      NaN       ...   \n",
       "2342 NaN               NaN                  NaN       NaN      NaN       ...   \n",
       "2343 NaN               NaN                  NaN       NaN      NaN       ...   \n",
       "2344 NaN               NaN                  NaN       NaN      NaN       ...   \n",
       "\n",
       "     prediction1_confidence  prediction1_dog_breed_bool         prediction2  \\\n",
       "0     0.097049               False                       bagel                \n",
       "1     0.323581               True                        Pekinese             \n",
       "2     0.716012               True                        malamute             \n",
       "3     0.170278               False                       Labrador_retriever   \n",
       "4     0.555712               True                        English_springer     \n",
       "...        ...                ...                                     ...     \n",
       "2340 NaN                     NaN                         NaN                  \n",
       "2341 NaN                     NaN                         NaN                  \n",
       "2342 NaN                     NaN                         NaN                  \n",
       "2343 NaN                     NaN                         NaN                  \n",
       "2344 NaN                     NaN                         NaN                  \n",
       "\n",
       "      prediction2_confidence prediction2_dog_breed_bool  \\\n",
       "0     0.085851                False                       \n",
       "1     0.090647                True                        \n",
       "2     0.078253                True                        \n",
       "3     0.168086                True                        \n",
       "4     0.225770                True                        \n",
       "...        ...                 ...                        \n",
       "2340 NaN                      NaN                         \n",
       "2341 NaN                      NaN                         \n",
       "2342 NaN                      NaN                         \n",
       "2343 NaN                      NaN                         \n",
       "2344 NaN                      NaN                         \n",
       "\n",
       "                      prediction3  prediction3_confidence  \\\n",
       "0     banana                       0.076110                 \n",
       "1     papillon                     0.068957                 \n",
       "2     kelpie                       0.031379                 \n",
       "3     spatula                      0.040836                 \n",
       "4     German_short-haired_pointer  0.175219                 \n",
       "...                           ...       ...                 \n",
       "2340  NaN                         NaN                       \n",
       "2341  NaN                         NaN                       \n",
       "2342  NaN                         NaN                       \n",
       "2343  NaN                         NaN                       \n",
       "2344  NaN                         NaN                       \n",
       "\n",
       "     prediction3_dog_breed_bool retweet_count  favorite_count  \n",
       "0     False                      7019.0        33843.0         \n",
       "1     True                       5303.0        29360.0         \n",
       "2     True                       3486.0        22077.0         \n",
       "3     False                      7232.0        36974.0         \n",
       "4     True                       7772.0        35344.0         \n",
       "...    ...                          ...            ...         \n",
       "2340  NaN                        670.0         2790.0          \n",
       "2341  NaN                        183.0         811.0           \n",
       "2342  NaN                        75.0          449.0           \n",
       "2343  NaN                        18.0          127.0           \n",
       "2344  NaN                        13.0          72.0            \n",
       "\n",
       "[2345 rows x 23 columns]"
      ]
     },
     "execution_count": 211,
     "metadata": {},
     "output_type": "execute_result"
    }
   ],
   "source": [
    "WeRateDogs_master_df"
   ]
  },
  {
   "cell_type": "markdown",
   "id": "8cb71358",
   "metadata": {},
   "source": [
    "## Storing Data\n",
    "\n",
    "#### Save gathered, assessed, and cleaned master dataset to a CSV file named \"twitter_archive_master.csv\"."
   ]
  },
  {
   "cell_type": "code",
   "execution_count": 213,
   "id": "7b2bfce4",
   "metadata": {},
   "outputs": [],
   "source": [
    "WeRateDogs_master_df.to_csv('twitter_archive_master.csv')\n",
    "\n",
    "# Re-reading the saved dataframe.\n",
    "WeRateDogs_master = pd.read_csv('twitter_archive_master.csv')"
   ]
  },
  {
   "cell_type": "code",
   "execution_count": 215,
   "id": "97343e4d",
   "metadata": {},
   "outputs": [
    {
     "data": {
      "text/html": [
       "<div>\n",
       "<style scoped>\n",
       "    .dataframe tbody tr th:only-of-type {\n",
       "        vertical-align: middle;\n",
       "    }\n",
       "\n",
       "    .dataframe tbody tr th {\n",
       "        vertical-align: top;\n",
       "    }\n",
       "\n",
       "    .dataframe thead th {\n",
       "        text-align: right;\n",
       "    }\n",
       "</style>\n",
       "<table border=\"1\" class=\"dataframe\">\n",
       "  <thead>\n",
       "    <tr style=\"text-align: right;\">\n",
       "      <th></th>\n",
       "      <th>Unnamed: 0</th>\n",
       "      <th>tweet_id</th>\n",
       "      <th>tweet_date</th>\n",
       "      <th>source</th>\n",
       "      <th>text</th>\n",
       "      <th>expanded_urls</th>\n",
       "      <th>rating_numerator</th>\n",
       "      <th>rating_denominator</th>\n",
       "      <th>name</th>\n",
       "      <th>dog_stage</th>\n",
       "      <th>...</th>\n",
       "      <th>prediction1_confidence</th>\n",
       "      <th>prediction1_dog_breed_bool</th>\n",
       "      <th>prediction2</th>\n",
       "      <th>prediction2_confidence</th>\n",
       "      <th>prediction2_dog_breed_bool</th>\n",
       "      <th>prediction3</th>\n",
       "      <th>prediction3_confidence</th>\n",
       "      <th>prediction3_dog_breed_bool</th>\n",
       "      <th>retweet_count</th>\n",
       "      <th>favorite_count</th>\n",
       "    </tr>\n",
       "  </thead>\n",
       "  <tbody>\n",
       "    <tr>\n",
       "      <th>0</th>\n",
       "      <td>0</td>\n",
       "      <td>892420643555336193</td>\n",
       "      <td>2017-08-01 16:23:56 +0000</td>\n",
       "      <td>Twitter for iPhone</td>\n",
       "      <td>This is Phineas. He's a mystical boy. Only ever appears in the hole of a donut. 13/10 https://t.co/MgUWQ76dJU</td>\n",
       "      <td>https://twitter.com/dog_rates/status/892420643555336193/photo/1</td>\n",
       "      <td>13.0</td>\n",
       "      <td>10.0</td>\n",
       "      <td>Phineas</td>\n",
       "      <td>NaN</td>\n",
       "      <td>...</td>\n",
       "      <td>0.097049</td>\n",
       "      <td>False</td>\n",
       "      <td>bagel</td>\n",
       "      <td>0.085851</td>\n",
       "      <td>False</td>\n",
       "      <td>banana</td>\n",
       "      <td>0.076110</td>\n",
       "      <td>False</td>\n",
       "      <td>7019.0</td>\n",
       "      <td>33843.0</td>\n",
       "    </tr>\n",
       "    <tr>\n",
       "      <th>1</th>\n",
       "      <td>1</td>\n",
       "      <td>892177421306343426</td>\n",
       "      <td>2017-08-01 00:17:27 +0000</td>\n",
       "      <td>Twitter for iPhone</td>\n",
       "      <td>This is Tilly. She's just checking pup on you. Hopes you're doing ok. If not, she's available for pats, snugs, boops, the whole bit. 13/10 https://t.co/0Xxu71qeIV</td>\n",
       "      <td>https://twitter.com/dog_rates/status/892177421306343426/photo/1</td>\n",
       "      <td>13.0</td>\n",
       "      <td>10.0</td>\n",
       "      <td>Tilly</td>\n",
       "      <td>NaN</td>\n",
       "      <td>...</td>\n",
       "      <td>0.323581</td>\n",
       "      <td>True</td>\n",
       "      <td>Pekinese</td>\n",
       "      <td>0.090647</td>\n",
       "      <td>True</td>\n",
       "      <td>papillon</td>\n",
       "      <td>0.068957</td>\n",
       "      <td>True</td>\n",
       "      <td>5303.0</td>\n",
       "      <td>29360.0</td>\n",
       "    </tr>\n",
       "    <tr>\n",
       "      <th>2</th>\n",
       "      <td>2</td>\n",
       "      <td>891815181378084864</td>\n",
       "      <td>2017-07-31 00:18:03 +0000</td>\n",
       "      <td>Twitter for iPhone</td>\n",
       "      <td>This is Archie. He is a rare Norwegian Pouncing Corgo. Lives in the tall grass. You never know when one may strike. 12/10 https://t.co/wUnZnhtVJB</td>\n",
       "      <td>https://twitter.com/dog_rates/status/891815181378084864/photo/1</td>\n",
       "      <td>12.0</td>\n",
       "      <td>10.0</td>\n",
       "      <td>Archie</td>\n",
       "      <td>NaN</td>\n",
       "      <td>...</td>\n",
       "      <td>0.716012</td>\n",
       "      <td>True</td>\n",
       "      <td>malamute</td>\n",
       "      <td>0.078253</td>\n",
       "      <td>True</td>\n",
       "      <td>kelpie</td>\n",
       "      <td>0.031379</td>\n",
       "      <td>True</td>\n",
       "      <td>3486.0</td>\n",
       "      <td>22077.0</td>\n",
       "    </tr>\n",
       "    <tr>\n",
       "      <th>3</th>\n",
       "      <td>3</td>\n",
       "      <td>891689557279858688</td>\n",
       "      <td>2017-07-30 15:58:51 +0000</td>\n",
       "      <td>Twitter for iPhone</td>\n",
       "      <td>This is Darla. She commenced a snooze mid meal. 13/10 happens to the best of us https://t.co/tD36da7qLQ</td>\n",
       "      <td>https://twitter.com/dog_rates/status/891689557279858688/photo/1</td>\n",
       "      <td>13.0</td>\n",
       "      <td>10.0</td>\n",
       "      <td>Darla</td>\n",
       "      <td>NaN</td>\n",
       "      <td>...</td>\n",
       "      <td>0.170278</td>\n",
       "      <td>False</td>\n",
       "      <td>Labrador_retriever</td>\n",
       "      <td>0.168086</td>\n",
       "      <td>True</td>\n",
       "      <td>spatula</td>\n",
       "      <td>0.040836</td>\n",
       "      <td>False</td>\n",
       "      <td>7232.0</td>\n",
       "      <td>36974.0</td>\n",
       "    </tr>\n",
       "    <tr>\n",
       "      <th>4</th>\n",
       "      <td>4</td>\n",
       "      <td>891327558926688256</td>\n",
       "      <td>2017-07-29 16:00:24 +0000</td>\n",
       "      <td>Twitter for iPhone</td>\n",
       "      <td>This is Franklin. He would like you to stop calling him \"cute.\" He is a very fierce shark and should be respected as such. 12/10 #BarkWeek https://t.co/AtUZn91f7f</td>\n",
       "      <td>https://twitter.com/dog_rates/status/891327558926688256/photo/1,https://twitter.com/dog_rates/status/891327558926688256/photo/1</td>\n",
       "      <td>12.0</td>\n",
       "      <td>10.0</td>\n",
       "      <td>Franklin</td>\n",
       "      <td>NaN</td>\n",
       "      <td>...</td>\n",
       "      <td>0.555712</td>\n",
       "      <td>True</td>\n",
       "      <td>English_springer</td>\n",
       "      <td>0.225770</td>\n",
       "      <td>True</td>\n",
       "      <td>German_short-haired_pointer</td>\n",
       "      <td>0.175219</td>\n",
       "      <td>True</td>\n",
       "      <td>7772.0</td>\n",
       "      <td>35344.0</td>\n",
       "    </tr>\n",
       "  </tbody>\n",
       "</table>\n",
       "<p>5 rows × 24 columns</p>\n",
       "</div>"
      ],
      "text/plain": [
       "   Unnamed: 0            tweet_id                 tweet_date  \\\n",
       "0  0           892420643555336193  2017-08-01 16:23:56 +0000   \n",
       "1  1           892177421306343426  2017-08-01 00:17:27 +0000   \n",
       "2  2           891815181378084864  2017-07-31 00:18:03 +0000   \n",
       "3  3           891689557279858688  2017-07-30 15:58:51 +0000   \n",
       "4  4           891327558926688256  2017-07-29 16:00:24 +0000   \n",
       "\n",
       "               source  \\\n",
       "0  Twitter for iPhone   \n",
       "1  Twitter for iPhone   \n",
       "2  Twitter for iPhone   \n",
       "3  Twitter for iPhone   \n",
       "4  Twitter for iPhone   \n",
       "\n",
       "                                                                                                                                                                 text  \\\n",
       "0  This is Phineas. He's a mystical boy. Only ever appears in the hole of a donut. 13/10 https://t.co/MgUWQ76dJU                                                        \n",
       "1  This is Tilly. She's just checking pup on you. Hopes you're doing ok. If not, she's available for pats, snugs, boops, the whole bit. 13/10 https://t.co/0Xxu71qeIV   \n",
       "2  This is Archie. He is a rare Norwegian Pouncing Corgo. Lives in the tall grass. You never know when one may strike. 12/10 https://t.co/wUnZnhtVJB                    \n",
       "3  This is Darla. She commenced a snooze mid meal. 13/10 happens to the best of us https://t.co/tD36da7qLQ                                                              \n",
       "4  This is Franklin. He would like you to stop calling him \"cute.\" He is a very fierce shark and should be respected as such. 12/10 #BarkWeek https://t.co/AtUZn91f7f   \n",
       "\n",
       "                                                                                                                     expanded_urls  \\\n",
       "0  https://twitter.com/dog_rates/status/892420643555336193/photo/1                                                                   \n",
       "1  https://twitter.com/dog_rates/status/892177421306343426/photo/1                                                                   \n",
       "2  https://twitter.com/dog_rates/status/891815181378084864/photo/1                                                                   \n",
       "3  https://twitter.com/dog_rates/status/891689557279858688/photo/1                                                                   \n",
       "4  https://twitter.com/dog_rates/status/891327558926688256/photo/1,https://twitter.com/dog_rates/status/891327558926688256/photo/1   \n",
       "\n",
       "   rating_numerator  rating_denominator      name dog_stage  ...  \\\n",
       "0  13.0              10.0                Phineas   NaN       ...   \n",
       "1  13.0              10.0                Tilly     NaN       ...   \n",
       "2  12.0              10.0                Archie    NaN       ...   \n",
       "3  13.0              10.0                Darla     NaN       ...   \n",
       "4  12.0              10.0                Franklin  NaN       ...   \n",
       "\n",
       "   prediction1_confidence prediction1_dog_breed_bool         prediction2  \\\n",
       "0  0.097049                False                      bagel                \n",
       "1  0.323581                True                       Pekinese             \n",
       "2  0.716012                True                       malamute             \n",
       "3  0.170278                False                      Labrador_retriever   \n",
       "4  0.555712                True                       English_springer     \n",
       "\n",
       "  prediction2_confidence  prediction2_dog_breed_bool  \\\n",
       "0  0.085851               False                        \n",
       "1  0.090647               True                         \n",
       "2  0.078253               True                         \n",
       "3  0.168086               True                         \n",
       "4  0.225770               True                         \n",
       "\n",
       "                   prediction3 prediction3_confidence  \\\n",
       "0  banana                       0.076110                \n",
       "1  papillon                     0.068957                \n",
       "2  kelpie                       0.031379                \n",
       "3  spatula                      0.040836                \n",
       "4  German_short-haired_pointer  0.175219                \n",
       "\n",
       "   prediction3_dog_breed_bool retweet_count favorite_count  \n",
       "0  False                       7019.0        33843.0        \n",
       "1  True                        5303.0        29360.0        \n",
       "2  True                        3486.0        22077.0        \n",
       "3  False                       7232.0        36974.0        \n",
       "4  True                        7772.0        35344.0        \n",
       "\n",
       "[5 rows x 24 columns]"
      ]
     },
     "execution_count": 215,
     "metadata": {},
     "output_type": "execute_result"
    }
   ],
   "source": [
    "WeRateDogs_master.head()"
   ]
  },
  {
   "cell_type": "markdown",
   "id": "c908f15d",
   "metadata": {},
   "source": [
    "# Analyzing and Visualizing Data\n",
    "#### In this section, analyze and visualize your wrangled data. You must produce at least three (3) insights and one (1) visualization."
   ]
  },
  {
   "cell_type": "markdown",
   "id": "bb0ac5c1",
   "metadata": {},
   "source": [
    "### #1. What is the correlation between retweet_count and favourite_count?"
   ]
  },
  {
   "cell_type": "code",
   "execution_count": 222,
   "id": "f1f94915",
   "metadata": {},
   "outputs": [
    {
     "data": {
      "text/plain": [
       "0.8016386100405121"
      ]
     },
     "execution_count": 222,
     "metadata": {},
     "output_type": "execute_result"
    }
   ],
   "source": [
    "# Calculating a correlation coefficient between retweet_count and favourite_count of movies.\n",
    "correlation = WeRateDogs_master['retweet_count'].corr(WeRateDogs_master['favorite_count'])\n",
    "correlation"
   ]
  },
  {
   "cell_type": "code",
   "execution_count": 262,
   "id": "52b443db",
   "metadata": {},
   "outputs": [],
   "source": [
    "'''\n",
    " This function plots the regplot and prints the correlation\n",
    " between the two variables passed as parameters\n",
    "'''\n",
    "\n",
    "def plot_regplot_and_generate_correlation(x, y, df):\n",
    "  sns.regplot(x=x, y=y, data=df, ci=None)\n",
    "  plt.title(f\"{x.capitalize()} against {y.capitalize()}\")\n",
    "  plt.show()\n",
    "\n",
    "  correlation = df[x].corr(df[y])\n",
    "  print(f\"The Correlation between {x.capitalize()} and {y.capitalize()} is {correlation}\")"
   ]
  },
  {
   "cell_type": "code",
   "execution_count": 263,
   "id": "2b78bd17",
   "metadata": {},
   "outputs": [
    {
     "data": {
      "image/png": "[encoded data removed]",
      "text/plain": [
       "<Figure size 1080x360 with 1 Axes>"
      ]
     },
     "metadata": {
      "needs_background": "light"
     },
     "output_type": "display_data"
    },
    {
     "name": "stdout",
     "output_type": "stream",
     "text": [
      "The Correlation between Retweet_count and Favorite_count is 0.8016386100405121\n"
     ]
    }
   ],
   "source": [
    "plot_regplot_and_generate_correlation('retweet_count', 'favorite_count', WeRateDogs_master )"
   ]
  },
  {
   "cell_type": "markdown",
   "id": "e1f280ba",
   "metadata": {},
   "source": [
    "### #2a.Is there a relationship between ratings and favorite count?"
   ]
  },
  {
   "cell_type": "code",
   "execution_count": 265,
   "id": "df2e0eba",
   "metadata": {
    "scrolled": true
   },
   "outputs": [
    {
     "data": {
      "image/png": "[encoded data removed]",
      "text/plain": [
       "<Figure size 1080x360 with 1 Axes>"
      ]
     },
     "metadata": {
      "needs_background": "light"
     },
     "output_type": "display_data"
    },
    {
     "name": "stdout",
     "output_type": "stream",
     "text": [
      "The Correlation between Ratings and Favorite_count is 0.017065391588601143\n"
     ]
    }
   ],
   "source": [
    "# calling the function to plot a regplot and calculate the correlation coefficient.\n",
    "\n",
    "plot_regplot_and_generate_correlation('ratings', 'favorite_count', WeRateDogs_master )"
   ]
  },
  {
   "cell_type": "markdown",
   "id": "4ce27525",
   "metadata": {},
   "source": [
    "#### The correlation between ratings and favorite_count is 0.017065391588601143. This is a weak correlation. This means there is hardly an relationship between the two."
   ]
  },
  {
   "cell_type": "markdown",
   "id": "770fb088",
   "metadata": {},
   "source": [
    "### #2b. What is the relationship between ratings and retweet count?"
   ]
  },
  {
   "cell_type": "code",
   "execution_count": 276,
   "id": "b988f24b",
   "metadata": {},
   "outputs": [
    {
     "data": {
      "image/png": "[encoded data removed]",
      "text/plain": [
       "<Figure size 1080x360 with 1 Axes>"
      ]
     },
     "metadata": {
      "needs_background": "light"
     },
     "output_type": "display_data"
    },
    {
     "name": "stdout",
     "output_type": "stream",
     "text": [
      "The Correlation between Ratings and Retweet_count is 0.019037709139975427\n"
     ]
    }
   ],
   "source": [
    "# calling the function to plot a regplot and calculate the correlation coefficient.\n",
    "\n",
    "plot_regplot_and_generate_correlation('ratings', 'retweet_count', WeRateDogs_master )"
   ]
  },
  {
   "cell_type": "markdown",
   "id": "136a9307",
   "metadata": {},
   "source": [
    "#### The correlation between ratings and retweet_count is 0.019037709139975427. This is a weak correlation. This means there is hardly an relationship between the two."
   ]
  },
  {
   "cell_type": "markdown",
   "id": "362b80d6",
   "metadata": {},
   "source": [
    "#### #3. What is the mean favourite_count for all the dog_stages?"
   ]
  },
  {
   "cell_type": "code",
   "execution_count": 225,
   "id": "1fcaae19",
   "metadata": {},
   "outputs": [
    {
     "data": {
      "text/plain": [
       "dog_stage\n",
       "doggo      14683.468354\n",
       "floofer    15859.500000\n",
       "pupper     6128.312500 \n",
       "puppo      20363.250000\n",
       "Name: favorite_count, dtype: float64"
      ]
     },
     "execution_count": 225,
     "metadata": {},
     "output_type": "execute_result"
    }
   ],
   "source": [
    "mean_favourite_count = WeRateDogs_master.groupby('dog_stage')['favorite_count'].mean()\n",
    "mean_favourite_count"
   ]
  },
  {
   "cell_type": "markdown",
   "id": "f72a3175",
   "metadata": {},
   "source": [
    "### #4. What dog_stage is the most tweeted?"
   ]
  },
  {
   "cell_type": "code",
   "execution_count": 242,
   "id": "fbd937ac",
   "metadata": {
    "scrolled": false
   },
   "outputs": [
    {
     "data": {
      "image/png": "[encoded data removed]",
      "text/plain": [
       "<Figure size 2160x1080 with 1 Axes>"
      ]
     },
     "metadata": {
      "needs_background": "light"
     },
     "output_type": "display_data"
    }
   ],
   "source": [
    "plt.figure(figsize=(30,15))\n",
    "sns.countplot(x = 'dog_stage', data= WeRateDogs_master )\n",
    "plt.title('The number of dog_stages', fontsize=40)\n",
    "plt.yticks(fontsize=30)\n",
    "plt.xticks(fontsize=30)\n",
    "plt.show;"
   ]
  },
  {
   "cell_type": "markdown",
   "id": "efa2b9db",
   "metadata": {},
   "source": [
    "### Most pictures of dogs that are tweeted are pictures of puppers."
   ]
  },
  {
   "cell_type": "markdown",
   "id": "b0ba1f0b",
   "metadata": {},
   "source": [
    "### #5. Which prediction mode was most accurate?"
   ]
  },
  {
   "cell_type": "code",
   "execution_count": 255,
   "id": "bffc4dac",
   "metadata": {},
   "outputs": [
    {
     "data": {
      "text/plain": [
       "count    2075.000000\n",
       "mean     0.594548   \n",
       "std      0.271174   \n",
       "min      0.044333   \n",
       "25%      0.364412   \n",
       "50%      0.588230   \n",
       "75%      0.843855   \n",
       "max      1.000000   \n",
       "Name: prediction1_confidence, dtype: float64"
      ]
     },
     "execution_count": 255,
     "metadata": {},
     "output_type": "execute_result"
    }
   ],
   "source": [
    "WeRateDogs_master['prediction1_confidence'].describe()"
   ]
  },
  {
   "cell_type": "code",
   "execution_count": 260,
   "id": "25077503",
   "metadata": {},
   "outputs": [
    {
     "data": {
      "text/plain": [
       "count    2.075000e+03\n",
       "mean     1.345886e-01\n",
       "std      1.006657e-01\n",
       "min      1.011300e-08\n",
       "25%      5.388625e-02\n",
       "50%      1.181810e-01\n",
       "75%      1.955655e-01\n",
       "max      4.880140e-01\n",
       "Name: prediction2_confidence, dtype: float64"
      ]
     },
     "execution_count": 260,
     "metadata": {},
     "output_type": "execute_result"
    }
   ],
   "source": [
    "WeRateDogs_master['prediction2_confidence'].describe()"
   ]
  },
  {
   "cell_type": "code",
   "execution_count": 261,
   "id": "41392619",
   "metadata": {},
   "outputs": [
    {
     "data": {
      "text/plain": [
       "count    2.075000e+03\n",
       "mean     6.032417e-02\n",
       "std      5.090593e-02\n",
       "min      1.740170e-10\n",
       "25%      1.622240e-02\n",
       "50%      4.944380e-02\n",
       "75%      9.180755e-02\n",
       "max      2.734190e-01\n",
       "Name: prediction3_confidence, dtype: float64"
      ]
     },
     "execution_count": 261,
     "metadata": {},
     "output_type": "execute_result"
    }
   ],
   "source": [
    "WeRateDogs_master['prediction3_confidence'].describe()"
   ]
  },
  {
   "cell_type": "markdown",
   "id": "38fb917a",
   "metadata": {},
   "source": [
    "#### From the summary statistics above, prediction 1 had a better prediction_confidence."
   ]
  },
  {
   "cell_type": "markdown",
   "id": "bea8977b",
   "metadata": {},
   "source": [
    "### #6 Which source has the highest users?"
   ]
  },
  {
   "cell_type": "code",
   "execution_count": 275,
   "id": "dd1e2767",
   "metadata": {},
   "outputs": [
    {
     "data": {
      "text/plain": [
       "<AxesSubplot:>"
      ]
     },
     "execution_count": 275,
     "metadata": {},
     "output_type": "execute_result"
    },
    {
     "data": {
      "image/png": "[encoded data removed]",
      "text/plain": [
       "<Figure size 720x432 with 1 Axes>"
      ]
     },
     "metadata": {
      "needs_background": "light"
     },
     "output_type": "display_data"
    }
   ],
   "source": [
    "WeRateDogs_master.source.value_counts().plot(kind = 'bar', figsize = (10, 6), color = ['blue', 'orange', 'green', 'violet'])"
   ]
  },
  {
   "cell_type": "markdown",
   "id": "0f23b2ac",
   "metadata": {},
   "source": [
    "### #7. What dog stages are most liked?"
   ]
  },
  {
   "cell_type": "code",
   "execution_count": 271,
   "id": "2a20be6d",
   "metadata": {},
   "outputs": [
    {
     "data": {
      "text/plain": [
       "Text(0, 0.5, 'favorite_count')"
      ]
     },
     "execution_count": 271,
     "metadata": {},
     "output_type": "execute_result"
    },
    {
     "data": {
      "image/png": "[encoded data removed]",
      "text/plain": [
       "<Figure size 1080x360 with 1 Axes>"
      ]
     },
     "metadata": {
      "needs_background": "light"
     },
     "output_type": "display_data"
    }
   ],
   "source": [
    "WeRateDogs_master.groupby('dog_stage')['favorite_count'].count().plot(kind = 'bar', color = ['blue', 'orange', 'green', 'violet'])\n",
    "plt.title('dog_stages vs favorite_count', fontsize = 14)\n",
    "plt.xlabel('Dog stages', fontsize = 12)\n",
    "plt.ylabel('favorite_count', fontsize = 12)"
   ]
  },
  {
   "cell_type": "markdown",
   "id": "9dc51ede",
   "metadata": {},
   "source": [
    "### #8. What dog stages are most retweeted?"
   ]
  },
  {
   "cell_type": "code",
   "execution_count": 272,
   "id": "100c06c1",
   "metadata": {},
   "outputs": [
    {
     "data": {
      "text/plain": [
       "Text(0, 0.5, 'favorite_count')"
      ]
     },
     "execution_count": 272,
     "metadata": {},
     "output_type": "execute_result"
    },
    {
     "data": {
      "image/png": "[encoded data removed]",
      "text/plain": [
       "<Figure size 1080x360 with 1 Axes>"
      ]
     },
     "metadata": {
      "needs_background": "light"
     },
     "output_type": "display_data"
    }
   ],
   "source": [
    "WeRateDogs_master.groupby('dog_stage')['retweet_count'].count().plot(kind = 'bar', color = ['blue', 'orange', 'green', 'violet'])\n",
    "plt.title('dog_stages vs retweet_count', fontsize = 14)\n",
    "plt.xlabel('Dog stages', fontsize = 12)\n",
    "plt.ylabel('favorite_count', fontsize = 12)"
   ]
  },
  {
   "cell_type": "markdown",
   "id": "fb20cb20",
   "metadata": {},
   "source": [
    "## Insights:\n",
    "#### 1.  The relationship between Retweet_count and Favorite_count is strong. This shows that if a user likes a post on twitter; they will most probably repost it.\n",
    "\n",
    "#### 2. Pupper was the most tweeted dog_stage\n",
    "\n",
    "#### 3. Prediction 1 had a better prediction_confidence.\n",
    "\n",
    "#### 4. Most people use tweeter for iphone\n",
    "\n",
    "#### 5. Pupper is the most liked and retweeted dog_stage.\n",
    "\n",
    "#### 6 Ratings  affects neither the likes nor the retweets that a dog gets.\n"
   ]
  },
  {
   "cell_type": "markdown",
   "id": "897f0458",
   "metadata": {},
   "source": [
    "## Visualization"
   ]
  },
  {
   "cell_type": "markdown",
   "id": "537e8b1f",
   "metadata": {},
   "source": [
    "### The visualizations are included in the analysis"
   ]
  }
 ],
 "metadata": {
  "kernelspec": {
   "display_name": "Python 3 (ipykernel)",
   "language": "python",
   "name": "python3"
  },
  "language_info": {
   "codemirror_mode": {
    "name": "ipython",
    "version": 3
   },
   "file_extension": ".py",
   "mimetype": "text/x-python",
   "name": "python",
   "nbconvert_exporter": "python",
   "pygments_lexer": "ipython3",
   "version": "3.7.13"
  },
  "vscode": {
   "interpreter": {
    "hash": "a077222d77dfe082b8f1dd562ad70e458ac2ab76993a0b248ab0476e32e9e8dd"
   }
  }
 },
 "nbformat": 4,
 "nbformat_minor": 5
}
